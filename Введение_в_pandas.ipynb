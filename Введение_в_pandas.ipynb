{
  "nbformat": 4,
  "nbformat_minor": 0,
  "metadata": {
    "colab": {
      "provenance": [],
      "authorship_tag": "ABX9TyMaSitI2fJ4mbyKBRJzwFJR",
      "include_colab_link": true
    },
    "kernelspec": {
      "name": "python3",
      "display_name": "Python 3"
    },
    "language_info": {
      "name": "python"
    }
  },
  "cells": [
    {
      "cell_type": "markdown",
      "metadata": {
        "id": "view-in-github",
        "colab_type": "text"
      },
      "source": [
        "<a href=\"https://colab.research.google.com/github/zepif/data-scince-lectures/blob/main/%D0%92%D0%B2%D0%B5%D0%B4%D0%B5%D0%BD%D0%B8%D0%B5_%D0%B2_pandas.ipynb\" target=\"_parent\"><img src=\"https://colab.research.google.com/assets/colab-badge.svg\" alt=\"Open In Colab\"/></a>"
      ]
    },
    {
      "cell_type": "markdown",
      "source": [
        "#import pandas as pd"
      ],
      "metadata": {
        "id": "y2NXrNfwuNBn"
      }
    },
    {
      "cell_type": "markdown",
      "source": [
        "В pandas есть два основных объекта: DataFrame и Series."
      ],
      "metadata": {
        "id": "xRr5gBC7vmcI"
      }
    },
    {
      "cell_type": "markdown",
      "source": [
        "**DataFrame**\n",
        "\n",
        "DataFrame - это таблица. Она содержит массив отдельных записей, каждая из которых имеет определенное значение. Каждая запись соответствует строке (или записи) и столбцу.\n",
        "\n",
        "Например, рассмотрим следующий простой DataFrame:"
      ],
      "metadata": {
        "id": "E1yDtq3Pv4IB"
      }
    },
    {
      "cell_type": "code",
      "source": [
        "import pandas as pd\n",
        "\n",
        "pd.DataFrame({'Yes': [50, 21], 'No': [131, 2]})"
      ],
      "metadata": {
        "colab": {
          "base_uri": "https://localhost:8080/",
          "height": 112
        },
        "id": "3-Zbz3t9uTZC",
        "outputId": "b1eb88b4-a33a-45e1-ba18-d797d59743d4"
      },
      "execution_count": null,
      "outputs": [
        {
          "output_type": "execute_result",
          "data": {
            "text/plain": [
              "   Yes   No\n",
              "0   50  131\n",
              "1   21    2"
            ],
            "text/html": [
              "\n",
              "  <div id=\"df-a62e26ab-80b1-48a2-9338-660a69a877be\">\n",
              "    <div class=\"colab-df-container\">\n",
              "      <div>\n",
              "<style scoped>\n",
              "    .dataframe tbody tr th:only-of-type {\n",
              "        vertical-align: middle;\n",
              "    }\n",
              "\n",
              "    .dataframe tbody tr th {\n",
              "        vertical-align: top;\n",
              "    }\n",
              "\n",
              "    .dataframe thead th {\n",
              "        text-align: right;\n",
              "    }\n",
              "</style>\n",
              "<table border=\"1\" class=\"dataframe\">\n",
              "  <thead>\n",
              "    <tr style=\"text-align: right;\">\n",
              "      <th></th>\n",
              "      <th>Yes</th>\n",
              "      <th>No</th>\n",
              "    </tr>\n",
              "  </thead>\n",
              "  <tbody>\n",
              "    <tr>\n",
              "      <th>0</th>\n",
              "      <td>50</td>\n",
              "      <td>131</td>\n",
              "    </tr>\n",
              "    <tr>\n",
              "      <th>1</th>\n",
              "      <td>21</td>\n",
              "      <td>2</td>\n",
              "    </tr>\n",
              "  </tbody>\n",
              "</table>\n",
              "</div>\n",
              "      <button class=\"colab-df-convert\" onclick=\"convertToInteractive('df-a62e26ab-80b1-48a2-9338-660a69a877be')\"\n",
              "              title=\"Convert this dataframe to an interactive table.\"\n",
              "              style=\"display:none;\">\n",
              "        \n",
              "  <svg xmlns=\"http://www.w3.org/2000/svg\" height=\"24px\"viewBox=\"0 0 24 24\"\n",
              "       width=\"24px\">\n",
              "    <path d=\"M0 0h24v24H0V0z\" fill=\"none\"/>\n",
              "    <path d=\"M18.56 5.44l.94 2.06.94-2.06 2.06-.94-2.06-.94-.94-2.06-.94 2.06-2.06.94zm-11 1L8.5 8.5l.94-2.06 2.06-.94-2.06-.94L8.5 2.5l-.94 2.06-2.06.94zm10 10l.94 2.06.94-2.06 2.06-.94-2.06-.94-.94-2.06-.94 2.06-2.06.94z\"/><path d=\"M17.41 7.96l-1.37-1.37c-.4-.4-.92-.59-1.43-.59-.52 0-1.04.2-1.43.59L10.3 9.45l-7.72 7.72c-.78.78-.78 2.05 0 2.83L4 21.41c.39.39.9.59 1.41.59.51 0 1.02-.2 1.41-.59l7.78-7.78 2.81-2.81c.8-.78.8-2.07 0-2.86zM5.41 20L4 18.59l7.72-7.72 1.47 1.35L5.41 20z\"/>\n",
              "  </svg>\n",
              "      </button>\n",
              "      \n",
              "  <style>\n",
              "    .colab-df-container {\n",
              "      display:flex;\n",
              "      flex-wrap:wrap;\n",
              "      gap: 12px;\n",
              "    }\n",
              "\n",
              "    .colab-df-convert {\n",
              "      background-color: #E8F0FE;\n",
              "      border: none;\n",
              "      border-radius: 50%;\n",
              "      cursor: pointer;\n",
              "      display: none;\n",
              "      fill: #1967D2;\n",
              "      height: 32px;\n",
              "      padding: 0 0 0 0;\n",
              "      width: 32px;\n",
              "    }\n",
              "\n",
              "    .colab-df-convert:hover {\n",
              "      background-color: #E2EBFA;\n",
              "      box-shadow: 0px 1px 2px rgba(60, 64, 67, 0.3), 0px 1px 3px 1px rgba(60, 64, 67, 0.15);\n",
              "      fill: #174EA6;\n",
              "    }\n",
              "\n",
              "    [theme=dark] .colab-df-convert {\n",
              "      background-color: #3B4455;\n",
              "      fill: #D2E3FC;\n",
              "    }\n",
              "\n",
              "    [theme=dark] .colab-df-convert:hover {\n",
              "      background-color: #434B5C;\n",
              "      box-shadow: 0px 1px 3px 1px rgba(0, 0, 0, 0.15);\n",
              "      filter: drop-shadow(0px 1px 2px rgba(0, 0, 0, 0.3));\n",
              "      fill: #FFFFFF;\n",
              "    }\n",
              "  </style>\n",
              "\n",
              "      <script>\n",
              "        const buttonEl =\n",
              "          document.querySelector('#df-a62e26ab-80b1-48a2-9338-660a69a877be button.colab-df-convert');\n",
              "        buttonEl.style.display =\n",
              "          google.colab.kernel.accessAllowed ? 'block' : 'none';\n",
              "\n",
              "        async function convertToInteractive(key) {\n",
              "          const element = document.querySelector('#df-a62e26ab-80b1-48a2-9338-660a69a877be');\n",
              "          const dataTable =\n",
              "            await google.colab.kernel.invokeFunction('convertToInteractive',\n",
              "                                                     [key], {});\n",
              "          if (!dataTable) return;\n",
              "\n",
              "          const docLinkHtml = 'Like what you see? Visit the ' +\n",
              "            '<a target=\"_blank\" href=https://colab.research.google.com/notebooks/data_table.ipynb>data table notebook</a>'\n",
              "            + ' to learn more about interactive tables.';\n",
              "          element.innerHTML = '';\n",
              "          dataTable['output_type'] = 'display_data';\n",
              "          await google.colab.output.renderOutput(dataTable, element);\n",
              "          const docLink = document.createElement('div');\n",
              "          docLink.innerHTML = docLinkHtml;\n",
              "          element.appendChild(docLink);\n",
              "        }\n",
              "      </script>\n",
              "    </div>\n",
              "  </div>\n",
              "  "
            ]
          },
          "metadata": {},
          "execution_count": 9
        }
      ]
    },
    {
      "cell_type": "code",
      "source": [
        "import pandas as pd\n",
        "\n",
        "pd.DataFrame({'Bob': ['I liked it.', 'It was awful.'], \n",
        "              'Sue': ['Pretty good.', 'Bland.']},\n",
        "             index=['Product A', 'Product B'])"
      ],
      "metadata": {
        "colab": {
          "base_uri": "https://localhost:8080/",
          "height": 112
        },
        "id": "SSj0H0Lmg9Lz",
        "outputId": "aedf98e5-a045-417c-8455-c8b353a3d96a"
      },
      "execution_count": null,
      "outputs": [
        {
          "output_type": "execute_result",
          "data": {
            "text/plain": [
              "                     Bob           Sue\n",
              "Product A    I liked it.  Pretty good.\n",
              "Product B  It was awful.        Bland."
            ],
            "text/html": [
              "\n",
              "  <div id=\"df-15d0aff2-35f1-4836-a59b-a653924f8ae6\">\n",
              "    <div class=\"colab-df-container\">\n",
              "      <div>\n",
              "<style scoped>\n",
              "    .dataframe tbody tr th:only-of-type {\n",
              "        vertical-align: middle;\n",
              "    }\n",
              "\n",
              "    .dataframe tbody tr th {\n",
              "        vertical-align: top;\n",
              "    }\n",
              "\n",
              "    .dataframe thead th {\n",
              "        text-align: right;\n",
              "    }\n",
              "</style>\n",
              "<table border=\"1\" class=\"dataframe\">\n",
              "  <thead>\n",
              "    <tr style=\"text-align: right;\">\n",
              "      <th></th>\n",
              "      <th>Bob</th>\n",
              "      <th>Sue</th>\n",
              "    </tr>\n",
              "  </thead>\n",
              "  <tbody>\n",
              "    <tr>\n",
              "      <th>Product A</th>\n",
              "      <td>I liked it.</td>\n",
              "      <td>Pretty good.</td>\n",
              "    </tr>\n",
              "    <tr>\n",
              "      <th>Product B</th>\n",
              "      <td>It was awful.</td>\n",
              "      <td>Bland.</td>\n",
              "    </tr>\n",
              "  </tbody>\n",
              "</table>\n",
              "</div>\n",
              "      <button class=\"colab-df-convert\" onclick=\"convertToInteractive('df-15d0aff2-35f1-4836-a59b-a653924f8ae6')\"\n",
              "              title=\"Convert this dataframe to an interactive table.\"\n",
              "              style=\"display:none;\">\n",
              "        \n",
              "  <svg xmlns=\"http://www.w3.org/2000/svg\" height=\"24px\"viewBox=\"0 0 24 24\"\n",
              "       width=\"24px\">\n",
              "    <path d=\"M0 0h24v24H0V0z\" fill=\"none\"/>\n",
              "    <path d=\"M18.56 5.44l.94 2.06.94-2.06 2.06-.94-2.06-.94-.94-2.06-.94 2.06-2.06.94zm-11 1L8.5 8.5l.94-2.06 2.06-.94-2.06-.94L8.5 2.5l-.94 2.06-2.06.94zm10 10l.94 2.06.94-2.06 2.06-.94-2.06-.94-.94-2.06-.94 2.06-2.06.94z\"/><path d=\"M17.41 7.96l-1.37-1.37c-.4-.4-.92-.59-1.43-.59-.52 0-1.04.2-1.43.59L10.3 9.45l-7.72 7.72c-.78.78-.78 2.05 0 2.83L4 21.41c.39.39.9.59 1.41.59.51 0 1.02-.2 1.41-.59l7.78-7.78 2.81-2.81c.8-.78.8-2.07 0-2.86zM5.41 20L4 18.59l7.72-7.72 1.47 1.35L5.41 20z\"/>\n",
              "  </svg>\n",
              "      </button>\n",
              "      \n",
              "  <style>\n",
              "    .colab-df-container {\n",
              "      display:flex;\n",
              "      flex-wrap:wrap;\n",
              "      gap: 12px;\n",
              "    }\n",
              "\n",
              "    .colab-df-convert {\n",
              "      background-color: #E8F0FE;\n",
              "      border: none;\n",
              "      border-radius: 50%;\n",
              "      cursor: pointer;\n",
              "      display: none;\n",
              "      fill: #1967D2;\n",
              "      height: 32px;\n",
              "      padding: 0 0 0 0;\n",
              "      width: 32px;\n",
              "    }\n",
              "\n",
              "    .colab-df-convert:hover {\n",
              "      background-color: #E2EBFA;\n",
              "      box-shadow: 0px 1px 2px rgba(60, 64, 67, 0.3), 0px 1px 3px 1px rgba(60, 64, 67, 0.15);\n",
              "      fill: #174EA6;\n",
              "    }\n",
              "\n",
              "    [theme=dark] .colab-df-convert {\n",
              "      background-color: #3B4455;\n",
              "      fill: #D2E3FC;\n",
              "    }\n",
              "\n",
              "    [theme=dark] .colab-df-convert:hover {\n",
              "      background-color: #434B5C;\n",
              "      box-shadow: 0px 1px 3px 1px rgba(0, 0, 0, 0.15);\n",
              "      filter: drop-shadow(0px 1px 2px rgba(0, 0, 0, 0.3));\n",
              "      fill: #FFFFFF;\n",
              "    }\n",
              "  </style>\n",
              "\n",
              "      <script>\n",
              "        const buttonEl =\n",
              "          document.querySelector('#df-15d0aff2-35f1-4836-a59b-a653924f8ae6 button.colab-df-convert');\n",
              "        buttonEl.style.display =\n",
              "          google.colab.kernel.accessAllowed ? 'block' : 'none';\n",
              "\n",
              "        async function convertToInteractive(key) {\n",
              "          const element = document.querySelector('#df-15d0aff2-35f1-4836-a59b-a653924f8ae6');\n",
              "          const dataTable =\n",
              "            await google.colab.kernel.invokeFunction('convertToInteractive',\n",
              "                                                     [key], {});\n",
              "          if (!dataTable) return;\n",
              "\n",
              "          const docLinkHtml = 'Like what you see? Visit the ' +\n",
              "            '<a target=\"_blank\" href=https://colab.research.google.com/notebooks/data_table.ipynb>data table notebook</a>'\n",
              "            + ' to learn more about interactive tables.';\n",
              "          element.innerHTML = '';\n",
              "          dataTable['output_type'] = 'display_data';\n",
              "          await google.colab.output.renderOutput(dataTable, element);\n",
              "          const docLink = document.createElement('div');\n",
              "          docLink.innerHTML = docLinkHtml;\n",
              "          element.appendChild(docLink);\n",
              "        }\n",
              "      </script>\n",
              "    </div>\n",
              "  </div>\n",
              "  "
            ]
          },
          "metadata": {},
          "execution_count": 10
        }
      ]
    },
    {
      "cell_type": "markdown",
      "source": [
        "**Series**"
      ],
      "metadata": {
        "id": "ro9HNvFBiHS3"
      }
    },
    {
      "cell_type": "code",
      "source": [
        "import pandas as pd\n",
        "\n",
        "pd.Series([10, 20, 30, 40, 50])"
      ],
      "metadata": {
        "colab": {
          "base_uri": "https://localhost:8080/"
        },
        "id": "vPvqObrMiFOA",
        "outputId": "e1de0139-37b6-4162-953e-4442523112c0"
      },
      "execution_count": null,
      "outputs": [
        {
          "output_type": "execute_result",
          "data": {
            "text/plain": [
              "0    10\n",
              "1    20\n",
              "2    30\n",
              "3    40\n",
              "4    50\n",
              "dtype: int64"
            ]
          },
          "metadata": {},
          "execution_count": 11
        }
      ]
    },
    {
      "cell_type": "markdown",
      "source": [
        "Series и DataFrame тесно связаны между собой. DataFrame - это просто набор Series, склеенных вместе"
      ],
      "metadata": {
        "id": "g9_cfmoLjz8h"
      }
    },
    {
      "cell_type": "markdown",
      "source": [
        "**Считывание данных**"
      ],
      "metadata": {
        "id": "sPP6VPgEpYnT"
      }
    },
    {
      "cell_type": "markdown",
      "source": [
        "Возможность создать DataFrame или Series вручную очень удобна. Но в большинстве случаев мы не будем создавать собственные данные вручную. Вместо этого мы будем работать с уже существующими данными.\n",
        "\n",
        "Данные могут храниться в любой из множества различных форм и форматов. Самый простой из них - CSV. Когда вы открываете CSV-файл, вы получаете что-то похожее на следующее:\n",
        "\n",
        "Продукт A, Продукт B, Продукт C,\n",
        "\n",
        "30,21,9,\n",
        "\n",
        "35,34,1,\n",
        "\n",
        "41,11,11\n",
        "\n",
        "Таким образом, CSV-файл - это таблица значений, разделенных запятыми. Отсюда и название: \"Comma-Separated Values\".\n",
        "\n",
        "Для чтения данных в DataFrame мы воспользуемся функцией pd.read_csv(). Это происходит следующим образом:"
      ],
      "metadata": {
        "id": "-dOVfoGIpeCw"
      }
    },
    {
      "cell_type": "code",
      "source": [
        "import pandas as pd\n",
        "\n",
        "california_housing = pd.read_csv(\"sample_data/california_housing_test.csv\")\n",
        "\n",
        "print(california_housing.shape)\n",
        "print(california_housing, end=\"\\n\\n\")\n",
        "print(california_housing.head(10), end=\"\\n\\n\")"
      ],
      "metadata": {
        "colab": {
          "base_uri": "https://localhost:8080/"
        },
        "id": "0KTfNE4Spc4w",
        "outputId": "43375ff7-9f11-4ce0-d31b-ccbc297a38c3"
      },
      "execution_count": 54,
      "outputs": [
        {
          "output_type": "stream",
          "name": "stdout",
          "text": [
            "(3000, 9)\n",
            "      longitude  latitude  housing_median_age  total_rooms  total_bedrooms  \\\n",
            "0       -122.05     37.37                27.0       3885.0           661.0   \n",
            "1       -118.30     34.26                43.0       1510.0           310.0   \n",
            "2       -117.81     33.78                27.0       3589.0           507.0   \n",
            "3       -118.36     33.82                28.0         67.0            15.0   \n",
            "4       -119.67     36.33                19.0       1241.0           244.0   \n",
            "...         ...       ...                 ...          ...             ...   \n",
            "2995    -119.86     34.42                23.0       1450.0           642.0   \n",
            "2996    -118.14     34.06                27.0       5257.0          1082.0   \n",
            "2997    -119.70     36.30                10.0        956.0           201.0   \n",
            "2998    -117.12     34.10                40.0         96.0            14.0   \n",
            "2999    -119.63     34.42                42.0       1765.0           263.0   \n",
            "\n",
            "      population  households  median_income  median_house_value  \n",
            "0         1537.0       606.0         6.6085            344700.0  \n",
            "1          809.0       277.0         3.5990            176500.0  \n",
            "2         1484.0       495.0         5.7934            270500.0  \n",
            "3           49.0        11.0         6.1359            330000.0  \n",
            "4          850.0       237.0         2.9375             81700.0  \n",
            "...          ...         ...            ...                 ...  \n",
            "2995      1258.0       607.0         1.1790            225000.0  \n",
            "2996      3496.0      1036.0         3.3906            237200.0  \n",
            "2997       693.0       220.0         2.2895             62000.0  \n",
            "2998        46.0        14.0         3.2708            162500.0  \n",
            "2999       753.0       260.0         8.5608            500001.0  \n",
            "\n",
            "[3000 rows x 9 columns]\n",
            "\n",
            "   longitude  latitude  housing_median_age  total_rooms  total_bedrooms  \\\n",
            "0    -122.05     37.37                27.0       3885.0           661.0   \n",
            "1    -118.30     34.26                43.0       1510.0           310.0   \n",
            "2    -117.81     33.78                27.0       3589.0           507.0   \n",
            "3    -118.36     33.82                28.0         67.0            15.0   \n",
            "4    -119.67     36.33                19.0       1241.0           244.0   \n",
            "5    -119.56     36.51                37.0       1018.0           213.0   \n",
            "6    -121.43     38.63                43.0       1009.0           225.0   \n",
            "7    -120.65     35.48                19.0       2310.0           471.0   \n",
            "8    -122.84     38.40                15.0       3080.0           617.0   \n",
            "9    -118.02     34.08                31.0       2402.0           632.0   \n",
            "\n",
            "   population  households  median_income  median_house_value  \n",
            "0      1537.0       606.0         6.6085            344700.0  \n",
            "1       809.0       277.0         3.5990            176500.0  \n",
            "2      1484.0       495.0         5.7934            270500.0  \n",
            "3        49.0        11.0         6.1359            330000.0  \n",
            "4       850.0       237.0         2.9375             81700.0  \n",
            "5       663.0       204.0         1.6635             67000.0  \n",
            "6       604.0       218.0         1.6641             67000.0  \n",
            "7      1341.0       441.0         3.2250            166900.0  \n",
            "8      1446.0       599.0         3.6696            194400.0  \n",
            "9      2830.0       603.0         2.3333            164200.0  \n",
            "\n"
          ]
        }
      ]
    },
    {
      "cell_type": "markdown",
      "source": [
        "**Работа с данными**"
      ],
      "metadata": {
        "id": "gZ_PdNvvzpwi"
      }
    },
    {
      "cell_type": "markdown",
      "source": [
        "Python предоставляют хорошие способы индексирования данных. Pandas переносит все эти способы, что облегчает работу с ним. Например:"
      ],
      "metadata": {
        "id": "TafqvgKlzsPa"
      }
    },
    {
      "cell_type": "code",
      "source": [
        "import pandas as pd\n",
        "\n",
        "california_housing = pd.read_csv(\"sample_data/california_housing_test.csv\")\n",
        "\n",
        "print(california_housing.households)\n",
        "\n",
        "print(california_housing['population'])\n",
        "\n",
        "print(california_housing['population'][0])"
      ],
      "metadata": {
        "colab": {
          "base_uri": "https://localhost:8080/"
        },
        "id": "6i4_n046zx60",
        "outputId": "519e2a70-05d5-49ed-cce0-3e8d200fc887"
      },
      "execution_count": null,
      "outputs": [
        {
          "output_type": "stream",
          "name": "stdout",
          "text": [
            "0        606.0\n",
            "1        277.0\n",
            "2        495.0\n",
            "3         11.0\n",
            "4        237.0\n",
            "         ...  \n",
            "2995     607.0\n",
            "2996    1036.0\n",
            "2997     220.0\n",
            "2998      14.0\n",
            "2999     260.0\n",
            "Name: households, Length: 3000, dtype: float64\n",
            "0       1537.0\n",
            "1        809.0\n",
            "2       1484.0\n",
            "3         49.0\n",
            "4        850.0\n",
            "         ...  \n",
            "2995    1258.0\n",
            "2996    3496.0\n",
            "2997     693.0\n",
            "2998      46.0\n",
            "2999     753.0\n",
            "Name: population, Length: 3000, dtype: float64\n",
            "1537.0\n"
          ]
        }
      ]
    },
    {
      "cell_type": "markdown",
      "source": [
        "**Индексирование в pandas**"
      ],
      "metadata": {
        "id": "5a9lxennJUvd"
      }
    },
    {
      "cell_type": "markdown",
      "source": [
        "В pandas есть свои собственные операторы доступа, loc и iloc. Которые используются для более сложных операций.\n",
        "\n",
        "Выбор на основе индекса\n",
        "\n",
        "функция iloc - выбирает по индексу: выбор данных на основе их числового положения в данных.\n"
      ],
      "metadata": {
        "id": "gDwdM-qvJ1up"
      }
    },
    {
      "cell_type": "code",
      "source": [
        "import pandas as pd\n",
        "\n",
        "california_housing = pd.read_csv(\"sample_data/california_housing_test.csv\")\n",
        "\n",
        "print(california_housing.iloc[0])\n",
        "print(end=\"\\n\\n\\n\")\n",
        "print(california_housing.iloc[:3, 0])\n",
        "print(end=\"\\n\\n\\n\")\n",
        "print(california_housing.iloc[[0, 1, 2, 6, 7], 0])"
      ],
      "metadata": {
        "colab": {
          "base_uri": "https://localhost:8080/"
        },
        "id": "tAeixFa9Km5o",
        "outputId": "00f8363a-105f-43f7-adb0-d3da0d2a1536"
      },
      "execution_count": null,
      "outputs": [
        {
          "output_type": "stream",
          "name": "stdout",
          "text": [
            "longitude               -122.0500\n",
            "latitude                  37.3700\n",
            "housing_median_age        27.0000\n",
            "total_rooms             3885.0000\n",
            "total_bedrooms           661.0000\n",
            "population              1537.0000\n",
            "households               606.0000\n",
            "median_income              6.6085\n",
            "median_house_value    344700.0000\n",
            "Name: 0, dtype: float64\n",
            "\n",
            "\n",
            "\n",
            "0   -122.05\n",
            "1   -118.30\n",
            "2   -117.81\n",
            "Name: longitude, dtype: float64\n",
            "\n",
            "\n",
            "\n",
            "0   -122.05\n",
            "1   -118.30\n",
            "2   -117.81\n",
            "6   -121.43\n",
            "7   -120.65\n",
            "Name: longitude, dtype: float64\n"
          ]
        }
      ]
    },
    {
      "cell_type": "markdown",
      "source": [
        "Функция loc выбирает на основе меток, то есть важно значение индекса данных, а не их позиция"
      ],
      "metadata": {
        "id": "1WuRLbsIqB_T"
      }
    },
    {
      "cell_type": "code",
      "source": [
        "import pandas as pd\n",
        "\n",
        "california_housing = pd.read_csv(\"sample_data/california_housing_test.csv\")\n",
        "\n",
        "print(california_housing.loc[0, 'longitude'])\n",
        "print(end=\"\\n\\n\\n\")\n",
        "print(california_housing.loc[0, ['longitude', 'latitude',  'housing_median_age']])\n",
        "print(end=\"\\n\\n\\n\")"
      ],
      "metadata": {
        "colab": {
          "base_uri": "https://localhost:8080/"
        },
        "id": "tZV5sft6qvn1",
        "outputId": "a46ef397-e27e-47b8-fae3-de9791b20ce5"
      },
      "execution_count": null,
      "outputs": [
        {
          "output_type": "stream",
          "name": "stdout",
          "text": [
            "-122.05\n",
            "\n",
            "\n",
            "\n",
            "longitude            -122.05\n",
            "latitude               37.37\n",
            "housing_median_age     27.00\n",
            "Name: 0, dtype: float64\n",
            "\n",
            "\n",
            "\n"
          ]
        }
      ]
    },
    {
      "cell_type": "markdown",
      "source": [
        "При выборе или переходе между loc и iloc стоит помнить об одной \"загвоздке\": эти два метода используют немного разные схемы индексации.\n",
        "\n",
        "iloc использует схему индексации stdlib, где первый элемент диапазона включается, а последний исключается. Таким образом, 0:10 выберет записи 0,...,9. loc, тем временем, индексирует по принципу \"включительно\". Таким образом, 0:10 будет выбирать записи 0,...,10.\n",
        "\n",
        "Зачем так сделали? Помните, что loc может индексировать любой тип stdlib: например, строки. Если у нас есть таблица с индексными значениями Apples, ..., Potatoes, ..., и мы хотим выбрать все фрукты по алфавиту между Apples и Potatoes, то гораздо удобнее проиндексировать ```df.loc['Apples':'Potatoes']```, чем что-то вроде ```df.loc['Apples': 'Potatoet']``` (t идет после s в алфавите)."
      ],
      "metadata": {
        "id": "l346M188yy9l"
      }
    },
    {
      "cell_type": "markdown",
      "source": [
        "**Условные операторы**"
      ],
      "metadata": {
        "id": "NIDp59TL47rE"
      }
    },
    {
      "cell_type": "code",
      "source": [
        "import pandas as pd\n",
        "\n",
        "california_housing = pd.read_csv(\"sample_data/california_housing_test.csv\")\n",
        "\n",
        "print(california_housing.longitude)\n",
        "print(end=\"\\n\\n\\n\")\n",
        "print(california_housing.longitude < -118.8)\n",
        "print(end=\"\\n\\n\\n\")\n",
        "\n",
        "print(california_housing.longitude[california_housing.longitude < -118.8])\n",
        "print(end=\"\\n\\n\\n\")\n",
        "print(california_housing.loc[(california_housing.longitude < -119) & (california_housing.longitude > -120)])\n",
        "print(end=\"\\n\\n\\n\")\n",
        "\n",
        "print(california_housing.loc[california_housing.housing_median_age.isin([25])])"
      ],
      "metadata": {
        "colab": {
          "base_uri": "https://localhost:8080/"
        },
        "id": "ldjcutzZ0rWC",
        "outputId": "82696cbe-d470-4e28-ca6e-3b5a39bfe3cd"
      },
      "execution_count": 58,
      "outputs": [
        {
          "output_type": "stream",
          "name": "stdout",
          "text": [
            "0      -122.05\n",
            "1      -118.30\n",
            "2      -117.81\n",
            "3      -118.36\n",
            "4      -119.67\n",
            "         ...  \n",
            "2995   -119.86\n",
            "2996   -118.14\n",
            "2997   -119.70\n",
            "2998   -117.12\n",
            "2999   -119.63\n",
            "Name: longitude, Length: 3000, dtype: float64\n",
            "\n",
            "\n",
            "\n",
            "0        True\n",
            "1       False\n",
            "2       False\n",
            "3       False\n",
            "4        True\n",
            "        ...  \n",
            "2995     True\n",
            "2996    False\n",
            "2997     True\n",
            "2998    False\n",
            "2999     True\n",
            "Name: longitude, Length: 3000, dtype: bool\n",
            "\n",
            "\n",
            "\n",
            "0      -122.05\n",
            "4      -119.67\n",
            "5      -119.56\n",
            "6      -121.43\n",
            "7      -120.65\n",
            "         ...  \n",
            "2989   -122.02\n",
            "2992   -122.33\n",
            "2995   -119.86\n",
            "2997   -119.70\n",
            "2999   -119.63\n",
            "Name: longitude, Length: 1439, dtype: float64\n",
            "\n",
            "\n",
            "\n",
            "      longitude  latitude  housing_median_age  total_rooms  total_bedrooms  \\\n",
            "4       -119.67     36.33                19.0       1241.0           244.0   \n",
            "5       -119.56     36.51                37.0       1018.0           213.0   \n",
            "11      -119.12     35.85                37.0        736.0           166.0   \n",
            "30      -119.35     36.33                14.0       1195.0           220.0   \n",
            "39      -119.01     34.23                11.0       5785.0          1035.0   \n",
            "...         ...       ...                 ...          ...             ...   \n",
            "2977    -119.70     36.75                11.0       3626.0           779.0   \n",
            "2980    -119.76     36.79                32.0       2463.0           468.0   \n",
            "2995    -119.86     34.42                23.0       1450.0           642.0   \n",
            "2997    -119.70     36.30                10.0        956.0           201.0   \n",
            "2999    -119.63     34.42                42.0       1765.0           263.0   \n",
            "\n",
            "      population  households  median_income  median_house_value  \n",
            "4          850.0       237.0         2.9375             81700.0  \n",
            "5          663.0       204.0         1.6635             67000.0  \n",
            "11         564.0       138.0         2.4167             58300.0  \n",
            "30         568.0       229.0         3.1486            105600.0  \n",
            "39        2760.0       985.0         4.6930            232200.0  \n",
            "...          ...         ...            ...                 ...  \n",
            "2977      1819.0       731.0         2.4956             87500.0  \n",
            "2980      1261.0       486.0         3.3281             75100.0  \n",
            "2995      1258.0       607.0         1.1790            225000.0  \n",
            "2997       693.0       220.0         2.2895             62000.0  \n",
            "2999       753.0       260.0         8.5608            500001.0  \n",
            "\n",
            "[225 rows x 9 columns]\n",
            "\n",
            "\n",
            "\n",
            "      longitude  latitude  housing_median_age  total_rooms  total_bedrooms  \\\n",
            "127     -122.02     37.96                25.0       2615.0           368.0   \n",
            "129     -117.19     34.03                25.0       2513.0           340.0   \n",
            "149     -121.64     39.28                25.0       2857.0           662.0   \n",
            "199     -121.02     37.68                25.0       3262.0           588.0   \n",
            "200     -123.28     40.77                25.0        767.0           206.0   \n",
            "...         ...       ...                 ...          ...             ...   \n",
            "2837    -119.88     34.40                25.0       2741.0           623.0   \n",
            "2887    -119.79     36.31                25.0       4984.0          1029.0   \n",
            "2895    -122.33     37.53                25.0       1729.0           383.0   \n",
            "2917    -122.59     38.04                25.0       3412.0           455.0   \n",
            "2987    -121.97     37.29                25.0       4096.0           743.0   \n",
            "\n",
            "      population  households  median_income  median_house_value  \n",
            "127        935.0       366.0         6.6727            305100.0  \n",
            "129        900.0       320.0         6.4962            182400.0  \n",
            "149       2076.0       685.0         1.8095             64100.0  \n",
            "199       1834.0       578.0         3.9960            114500.0  \n",
            "200        301.0       121.0         1.6250             79200.0  \n",
            "...          ...         ...            ...                 ...  \n",
            "2837      2272.0       624.0         2.2647            216700.0  \n",
            "2887      2414.0       961.0         2.2937             72300.0  \n",
            "2895       769.0       352.0         4.0417            458500.0  \n",
            "2917      1238.0       406.0         8.3646            397300.0  \n",
            "2987      2027.0       741.0         5.3294            300300.0  \n",
            "\n",
            "[86 rows x 9 columns]\n"
          ]
        }
      ]
    },
    {
      "cell_type": "markdown",
      "source": [
        "**Присвоение данных**"
      ],
      "metadata": {
        "id": "FT500hfM6rY4"
      }
    },
    {
      "cell_type": "code",
      "source": [
        "import pandas as pd\n",
        "\n",
        "california_housing = pd.read_csv(\"sample_data/california_housing_test.csv\")\n",
        "\n",
        "print(california_housing['longitude'])\n",
        "california_housing['longitude'] = range(len(california_housing), 0, -1)\n",
        "print(california_housing['longitude'])"
      ],
      "metadata": {
        "colab": {
          "base_uri": "https://localhost:8080/"
        },
        "id": "0EeFa-kN6wvs",
        "outputId": "1940b49a-8aac-4ed4-ee51-b5ef9fd8b348"
      },
      "execution_count": 60,
      "outputs": [
        {
          "output_type": "stream",
          "name": "stdout",
          "text": [
            "0      -122.05\n",
            "1      -118.30\n",
            "2      -117.81\n",
            "3      -118.36\n",
            "4      -119.67\n",
            "         ...  \n",
            "2995   -119.86\n",
            "2996   -118.14\n",
            "2997   -119.70\n",
            "2998   -117.12\n",
            "2999   -119.63\n",
            "Name: longitude, Length: 3000, dtype: float64\n",
            "0       3000\n",
            "1       2999\n",
            "2       2998\n",
            "3       2997\n",
            "4       2996\n",
            "        ... \n",
            "2995       5\n",
            "2996       4\n",
            "2997       3\n",
            "2998       2\n",
            "2999       1\n",
            "Name: longitude, Length: 3000, dtype: int64\n"
          ]
        }
      ]
    },
    {
      "cell_type": "markdown",
      "source": [
        "**Операции с данными**"
      ],
      "metadata": {
        "id": "xNqe85JT84R_"
      }
    },
    {
      "cell_type": "code",
      "source": [
        "import pandas as pd\n",
        "\n",
        "california_housing = pd.read_csv(\"sample_data/california_housing_test.csv\")\n",
        "\n",
        "print(california_housing.head)\n",
        "print(end=\"\\n\\n\\n\")\n",
        "print(california_housing.total_rooms.describe())\n",
        "print(end=\"\\n\\n\\n\")\n",
        "print(california_housing.total_rooms.mean())\n",
        "print(end=\"\\n\\n\\n\")\n",
        "print(california_housing.total_rooms.unique())\n",
        "print(end=\"\\n\\n\\n\")\n",
        "print(california_housing.total_rooms.value_counts())"
      ],
      "metadata": {
        "colab": {
          "base_uri": "https://localhost:8080/"
        },
        "id": "H5P-Yett828w",
        "outputId": "9ea7394c-04d2-410d-8bd1-48dbd2811e18"
      },
      "execution_count": null,
      "outputs": [
        {
          "output_type": "stream",
          "name": "stdout",
          "text": [
            "<bound method NDFrame.head of       longitude  latitude  housing_median_age  total_rooms  total_bedrooms  \\\n",
            "0       -122.05     37.37                27.0       3885.0           661.0   \n",
            "1       -118.30     34.26                43.0       1510.0           310.0   \n",
            "2       -117.81     33.78                27.0       3589.0           507.0   \n",
            "3       -118.36     33.82                28.0         67.0            15.0   \n",
            "4       -119.67     36.33                19.0       1241.0           244.0   \n",
            "...         ...       ...                 ...          ...             ...   \n",
            "2995    -119.86     34.42                23.0       1450.0           642.0   \n",
            "2996    -118.14     34.06                27.0       5257.0          1082.0   \n",
            "2997    -119.70     36.30                10.0        956.0           201.0   \n",
            "2998    -117.12     34.10                40.0         96.0            14.0   \n",
            "2999    -119.63     34.42                42.0       1765.0           263.0   \n",
            "\n",
            "      population  households  median_income  median_house_value  \n",
            "0         1537.0       606.0         6.6085            344700.0  \n",
            "1          809.0       277.0         3.5990            176500.0  \n",
            "2         1484.0       495.0         5.7934            270500.0  \n",
            "3           49.0        11.0         6.1359            330000.0  \n",
            "4          850.0       237.0         2.9375             81700.0  \n",
            "...          ...         ...            ...                 ...  \n",
            "2995      1258.0       607.0         1.1790            225000.0  \n",
            "2996      3496.0      1036.0         3.3906            237200.0  \n",
            "2997       693.0       220.0         2.2895             62000.0  \n",
            "2998        46.0        14.0         3.2708            162500.0  \n",
            "2999       753.0       260.0         8.5608            500001.0  \n",
            "\n",
            "[3000 rows x 9 columns]>\n",
            "\n",
            "\n",
            "\n",
            "count     3000.000000\n",
            "mean      2599.578667\n",
            "std       2155.593332\n",
            "min          6.000000\n",
            "25%       1401.000000\n",
            "50%       2106.000000\n",
            "75%       3129.000000\n",
            "max      30450.000000\n",
            "Name: total_rooms, dtype: float64\n",
            "\n",
            "\n",
            "\n",
            "2599.578666666667\n",
            "\n",
            "\n",
            "\n",
            "[3885. 1510. 3589. ... 4867.  573. 5257.]\n",
            "\n",
            "\n",
            "\n",
            "907.0     5\n",
            "1787.0    5\n",
            "1778.0    5\n",
            "1966.0    5\n",
            "1499.0    4\n",
            "         ..\n",
            "1132.0    1\n",
            "3199.0    1\n",
            "1433.0    1\n",
            "4602.0    1\n",
            "5257.0    1\n",
            "Name: total_rooms, Length: 2215, dtype: int64\n"
          ]
        }
      ]
    },
    {
      "cell_type": "markdown",
      "source": [
        "**Maps**"
      ],
      "metadata": {
        "id": "SUHrRCfjH0SP"
      }
    },
    {
      "cell_type": "markdown",
      "source": [
        "Мы можем использовать встроенную функцию Python map() для применения функции к каждому элементу итерируемого объекта и возвращения нового значения для получения результатов. "
      ],
      "metadata": {
        "id": "VrOku5rkEG2R"
      }
    },
    {
      "cell_type": "code",
      "source": [
        "import pandas as pd\n",
        "\n",
        "california_housing = pd.read_csv(\"sample_data/california_housing_test.csv\")\n",
        "\n",
        "print(california_housing.latitude)\n",
        "calif_latitude_mean = california_housing.latitude.mean()\n",
        "print(california_housing.latitude.map(lambda p: p - calif_latitude_mean))"
      ],
      "metadata": {
        "colab": {
          "base_uri": "https://localhost:8080/"
        },
        "id": "h2ep4pTjH2eL",
        "outputId": "eaa62ff9-d9c3-4cad-eefd-5935ad673d15"
      },
      "execution_count": 61,
      "outputs": [
        {
          "output_type": "stream",
          "name": "stdout",
          "text": [
            "0       37.37\n",
            "1       34.26\n",
            "2       33.78\n",
            "3       33.82\n",
            "4       36.33\n",
            "        ...  \n",
            "2995    34.42\n",
            "2996    34.06\n",
            "2997    36.30\n",
            "2998    34.10\n",
            "2999    34.42\n",
            "Name: latitude, Length: 3000, dtype: float64\n",
            "0       1.73461\n",
            "1      -1.37539\n",
            "2      -1.85539\n",
            "3      -1.81539\n",
            "4       0.69461\n",
            "         ...   \n",
            "2995   -1.21539\n",
            "2996   -1.57539\n",
            "2997    0.66461\n",
            "2998   -1.53539\n",
            "2999   -1.21539\n",
            "Name: latitude, Length: 3000, dtype: float64\n"
          ]
        }
      ]
    },
    {
      "cell_type": "markdown",
      "source": [
        "apply() - эквивалентный метод, если мы хотим преобразовать весь DataFrame, вызывая пользовательский метод для каждой строки"
      ],
      "metadata": {
        "id": "T9UlsXj0FDJ5"
      }
    },
    {
      "cell_type": "code",
      "source": [
        "import pandas as pd\n",
        "\n",
        "california_housing = pd.read_csv(\"sample_data/california_housing_test.csv\")\n",
        "\n",
        "calif_latitude_mean = california_housing.latitude.mean()\n",
        "\n",
        "def remean_latitude(row):\n",
        "    row.latitude = row.latitude - calif_latitude_mean\n",
        "    return row\n",
        "\n",
        "california_housing.apply(remean_latitude, axis='columns')"
      ],
      "metadata": {
        "colab": {
          "base_uri": "https://localhost:8080/",
          "height": 424
        },
        "id": "l-OF9e44hBdm",
        "outputId": "102e871b-e65e-47cd-ac9c-174ec29c319f"
      },
      "execution_count": null,
      "outputs": [
        {
          "output_type": "execute_result",
          "data": {
            "text/plain": [
              "      longitude  latitude  housing_median_age  total_rooms  total_bedrooms  \\\n",
              "0       -122.05   1.73461                27.0       3885.0           661.0   \n",
              "1       -118.30  -1.37539                43.0       1510.0           310.0   \n",
              "2       -117.81  -1.85539                27.0       3589.0           507.0   \n",
              "3       -118.36  -1.81539                28.0         67.0            15.0   \n",
              "4       -119.67   0.69461                19.0       1241.0           244.0   \n",
              "...         ...       ...                 ...          ...             ...   \n",
              "2995    -119.86  -1.21539                23.0       1450.0           642.0   \n",
              "2996    -118.14  -1.57539                27.0       5257.0          1082.0   \n",
              "2997    -119.70   0.66461                10.0        956.0           201.0   \n",
              "2998    -117.12  -1.53539                40.0         96.0            14.0   \n",
              "2999    -119.63  -1.21539                42.0       1765.0           263.0   \n",
              "\n",
              "      population  households  median_income  median_house_value  \n",
              "0         1537.0       606.0         6.6085            344700.0  \n",
              "1          809.0       277.0         3.5990            176500.0  \n",
              "2         1484.0       495.0         5.7934            270500.0  \n",
              "3           49.0        11.0         6.1359            330000.0  \n",
              "4          850.0       237.0         2.9375             81700.0  \n",
              "...          ...         ...            ...                 ...  \n",
              "2995      1258.0       607.0         1.1790            225000.0  \n",
              "2996      3496.0      1036.0         3.3906            237200.0  \n",
              "2997       693.0       220.0         2.2895             62000.0  \n",
              "2998        46.0        14.0         3.2708            162500.0  \n",
              "2999       753.0       260.0         8.5608            500001.0  \n",
              "\n",
              "[3000 rows x 9 columns]"
            ],
            "text/html": [
              "\n",
              "  <div id=\"df-1571d1c3-8fa2-45df-a13b-2ee793175dcf\">\n",
              "    <div class=\"colab-df-container\">\n",
              "      <div>\n",
              "<style scoped>\n",
              "    .dataframe tbody tr th:only-of-type {\n",
              "        vertical-align: middle;\n",
              "    }\n",
              "\n",
              "    .dataframe tbody tr th {\n",
              "        vertical-align: top;\n",
              "    }\n",
              "\n",
              "    .dataframe thead th {\n",
              "        text-align: right;\n",
              "    }\n",
              "</style>\n",
              "<table border=\"1\" class=\"dataframe\">\n",
              "  <thead>\n",
              "    <tr style=\"text-align: right;\">\n",
              "      <th></th>\n",
              "      <th>longitude</th>\n",
              "      <th>latitude</th>\n",
              "      <th>housing_median_age</th>\n",
              "      <th>total_rooms</th>\n",
              "      <th>total_bedrooms</th>\n",
              "      <th>population</th>\n",
              "      <th>households</th>\n",
              "      <th>median_income</th>\n",
              "      <th>median_house_value</th>\n",
              "    </tr>\n",
              "  </thead>\n",
              "  <tbody>\n",
              "    <tr>\n",
              "      <th>0</th>\n",
              "      <td>-122.05</td>\n",
              "      <td>1.73461</td>\n",
              "      <td>27.0</td>\n",
              "      <td>3885.0</td>\n",
              "      <td>661.0</td>\n",
              "      <td>1537.0</td>\n",
              "      <td>606.0</td>\n",
              "      <td>6.6085</td>\n",
              "      <td>344700.0</td>\n",
              "    </tr>\n",
              "    <tr>\n",
              "      <th>1</th>\n",
              "      <td>-118.30</td>\n",
              "      <td>-1.37539</td>\n",
              "      <td>43.0</td>\n",
              "      <td>1510.0</td>\n",
              "      <td>310.0</td>\n",
              "      <td>809.0</td>\n",
              "      <td>277.0</td>\n",
              "      <td>3.5990</td>\n",
              "      <td>176500.0</td>\n",
              "    </tr>\n",
              "    <tr>\n",
              "      <th>2</th>\n",
              "      <td>-117.81</td>\n",
              "      <td>-1.85539</td>\n",
              "      <td>27.0</td>\n",
              "      <td>3589.0</td>\n",
              "      <td>507.0</td>\n",
              "      <td>1484.0</td>\n",
              "      <td>495.0</td>\n",
              "      <td>5.7934</td>\n",
              "      <td>270500.0</td>\n",
              "    </tr>\n",
              "    <tr>\n",
              "      <th>3</th>\n",
              "      <td>-118.36</td>\n",
              "      <td>-1.81539</td>\n",
              "      <td>28.0</td>\n",
              "      <td>67.0</td>\n",
              "      <td>15.0</td>\n",
              "      <td>49.0</td>\n",
              "      <td>11.0</td>\n",
              "      <td>6.1359</td>\n",
              "      <td>330000.0</td>\n",
              "    </tr>\n",
              "    <tr>\n",
              "      <th>4</th>\n",
              "      <td>-119.67</td>\n",
              "      <td>0.69461</td>\n",
              "      <td>19.0</td>\n",
              "      <td>1241.0</td>\n",
              "      <td>244.0</td>\n",
              "      <td>850.0</td>\n",
              "      <td>237.0</td>\n",
              "      <td>2.9375</td>\n",
              "      <td>81700.0</td>\n",
              "    </tr>\n",
              "    <tr>\n",
              "      <th>...</th>\n",
              "      <td>...</td>\n",
              "      <td>...</td>\n",
              "      <td>...</td>\n",
              "      <td>...</td>\n",
              "      <td>...</td>\n",
              "      <td>...</td>\n",
              "      <td>...</td>\n",
              "      <td>...</td>\n",
              "      <td>...</td>\n",
              "    </tr>\n",
              "    <tr>\n",
              "      <th>2995</th>\n",
              "      <td>-119.86</td>\n",
              "      <td>-1.21539</td>\n",
              "      <td>23.0</td>\n",
              "      <td>1450.0</td>\n",
              "      <td>642.0</td>\n",
              "      <td>1258.0</td>\n",
              "      <td>607.0</td>\n",
              "      <td>1.1790</td>\n",
              "      <td>225000.0</td>\n",
              "    </tr>\n",
              "    <tr>\n",
              "      <th>2996</th>\n",
              "      <td>-118.14</td>\n",
              "      <td>-1.57539</td>\n",
              "      <td>27.0</td>\n",
              "      <td>5257.0</td>\n",
              "      <td>1082.0</td>\n",
              "      <td>3496.0</td>\n",
              "      <td>1036.0</td>\n",
              "      <td>3.3906</td>\n",
              "      <td>237200.0</td>\n",
              "    </tr>\n",
              "    <tr>\n",
              "      <th>2997</th>\n",
              "      <td>-119.70</td>\n",
              "      <td>0.66461</td>\n",
              "      <td>10.0</td>\n",
              "      <td>956.0</td>\n",
              "      <td>201.0</td>\n",
              "      <td>693.0</td>\n",
              "      <td>220.0</td>\n",
              "      <td>2.2895</td>\n",
              "      <td>62000.0</td>\n",
              "    </tr>\n",
              "    <tr>\n",
              "      <th>2998</th>\n",
              "      <td>-117.12</td>\n",
              "      <td>-1.53539</td>\n",
              "      <td>40.0</td>\n",
              "      <td>96.0</td>\n",
              "      <td>14.0</td>\n",
              "      <td>46.0</td>\n",
              "      <td>14.0</td>\n",
              "      <td>3.2708</td>\n",
              "      <td>162500.0</td>\n",
              "    </tr>\n",
              "    <tr>\n",
              "      <th>2999</th>\n",
              "      <td>-119.63</td>\n",
              "      <td>-1.21539</td>\n",
              "      <td>42.0</td>\n",
              "      <td>1765.0</td>\n",
              "      <td>263.0</td>\n",
              "      <td>753.0</td>\n",
              "      <td>260.0</td>\n",
              "      <td>8.5608</td>\n",
              "      <td>500001.0</td>\n",
              "    </tr>\n",
              "  </tbody>\n",
              "</table>\n",
              "<p>3000 rows × 9 columns</p>\n",
              "</div>\n",
              "      <button class=\"colab-df-convert\" onclick=\"convertToInteractive('df-1571d1c3-8fa2-45df-a13b-2ee793175dcf')\"\n",
              "              title=\"Convert this dataframe to an interactive table.\"\n",
              "              style=\"display:none;\">\n",
              "        \n",
              "  <svg xmlns=\"http://www.w3.org/2000/svg\" height=\"24px\"viewBox=\"0 0 24 24\"\n",
              "       width=\"24px\">\n",
              "    <path d=\"M0 0h24v24H0V0z\" fill=\"none\"/>\n",
              "    <path d=\"M18.56 5.44l.94 2.06.94-2.06 2.06-.94-2.06-.94-.94-2.06-.94 2.06-2.06.94zm-11 1L8.5 8.5l.94-2.06 2.06-.94-2.06-.94L8.5 2.5l-.94 2.06-2.06.94zm10 10l.94 2.06.94-2.06 2.06-.94-2.06-.94-.94-2.06-.94 2.06-2.06.94z\"/><path d=\"M17.41 7.96l-1.37-1.37c-.4-.4-.92-.59-1.43-.59-.52 0-1.04.2-1.43.59L10.3 9.45l-7.72 7.72c-.78.78-.78 2.05 0 2.83L4 21.41c.39.39.9.59 1.41.59.51 0 1.02-.2 1.41-.59l7.78-7.78 2.81-2.81c.8-.78.8-2.07 0-2.86zM5.41 20L4 18.59l7.72-7.72 1.47 1.35L5.41 20z\"/>\n",
              "  </svg>\n",
              "      </button>\n",
              "      \n",
              "  <style>\n",
              "    .colab-df-container {\n",
              "      display:flex;\n",
              "      flex-wrap:wrap;\n",
              "      gap: 12px;\n",
              "    }\n",
              "\n",
              "    .colab-df-convert {\n",
              "      background-color: #E8F0FE;\n",
              "      border: none;\n",
              "      border-radius: 50%;\n",
              "      cursor: pointer;\n",
              "      display: none;\n",
              "      fill: #1967D2;\n",
              "      height: 32px;\n",
              "      padding: 0 0 0 0;\n",
              "      width: 32px;\n",
              "    }\n",
              "\n",
              "    .colab-df-convert:hover {\n",
              "      background-color: #E2EBFA;\n",
              "      box-shadow: 0px 1px 2px rgba(60, 64, 67, 0.3), 0px 1px 3px 1px rgba(60, 64, 67, 0.15);\n",
              "      fill: #174EA6;\n",
              "    }\n",
              "\n",
              "    [theme=dark] .colab-df-convert {\n",
              "      background-color: #3B4455;\n",
              "      fill: #D2E3FC;\n",
              "    }\n",
              "\n",
              "    [theme=dark] .colab-df-convert:hover {\n",
              "      background-color: #434B5C;\n",
              "      box-shadow: 0px 1px 3px 1px rgba(0, 0, 0, 0.15);\n",
              "      filter: drop-shadow(0px 1px 2px rgba(0, 0, 0, 0.3));\n",
              "      fill: #FFFFFF;\n",
              "    }\n",
              "  </style>\n",
              "\n",
              "      <script>\n",
              "        const buttonEl =\n",
              "          document.querySelector('#df-1571d1c3-8fa2-45df-a13b-2ee793175dcf button.colab-df-convert');\n",
              "        buttonEl.style.display =\n",
              "          google.colab.kernel.accessAllowed ? 'block' : 'none';\n",
              "\n",
              "        async function convertToInteractive(key) {\n",
              "          const element = document.querySelector('#df-1571d1c3-8fa2-45df-a13b-2ee793175dcf');\n",
              "          const dataTable =\n",
              "            await google.colab.kernel.invokeFunction('convertToInteractive',\n",
              "                                                     [key], {});\n",
              "          if (!dataTable) return;\n",
              "\n",
              "          const docLinkHtml = 'Like what you see? Visit the ' +\n",
              "            '<a target=\"_blank\" href=https://colab.research.google.com/notebooks/data_table.ipynb>data table notebook</a>'\n",
              "            + ' to learn more about interactive tables.';\n",
              "          element.innerHTML = '';\n",
              "          dataTable['output_type'] = 'display_data';\n",
              "          await google.colab.output.renderOutput(dataTable, element);\n",
              "          const docLink = document.createElement('div');\n",
              "          docLink.innerHTML = docLinkHtml;\n",
              "          element.appendChild(docLink);\n",
              "        }\n",
              "      </script>\n",
              "    </div>\n",
              "  </div>\n",
              "  "
            ]
          },
          "metadata": {},
          "execution_count": 1
        }
      ]
    },
    {
      "cell_type": "code",
      "source": [
        "import pandas as pd\n",
        "\n",
        "california_housing = pd.read_csv(\"sample_data/california_housing_test.csv\")\n",
        "\n",
        "calif_latitude_mean = california_housing.latitude.mean()\n",
        "print(california_housing.latitude - calif_latitude_mean)"
      ],
      "metadata": {
        "colab": {
          "base_uri": "https://localhost:8080/"
        },
        "id": "HQX_QSkw38Rd",
        "outputId": "dda267b8-3c46-47b2-b760-4df161c1d1ea"
      },
      "execution_count": null,
      "outputs": [
        {
          "output_type": "stream",
          "name": "stdout",
          "text": [
            "0       1.73461\n",
            "1      -1.37539\n",
            "2      -1.85539\n",
            "3      -1.81539\n",
            "4       0.69461\n",
            "         ...   \n",
            "2995   -1.21539\n",
            "2996   -1.57539\n",
            "2997    0.66461\n",
            "2998   -1.53539\n",
            "2999   -1.21539\n",
            "Name: latitude, Length: 3000, dtype: float64\n"
          ]
        }
      ]
    },
    {
      "cell_type": "markdown",
      "source": [
        "**Анализ данных**"
      ],
      "metadata": {
        "id": "JVwL09IogEls"
      }
    },
    {
      "cell_type": "code",
      "source": [
        "import pandas as pd\n",
        "\n",
        "california_housing = pd.read_csv(\"sample_data/california_housing_test.csv\")\n",
        "\n",
        "print(california_housing.groupby('latitude').latitude.count())\n",
        "print(end=\"\\n\\n\\n\")\n",
        "\n",
        "print(california_housing.groupby('latitude').apply(lambda df: df.longitude.iloc[0]))\n",
        "print(end=\"\\n\\n\\n\")\n",
        "print(california_housing.groupby(['median_income', 'median_house_value']).apply(lambda df: df.latitude[df.households.idxmax()]))\n",
        "print(end=\"\\n\\n\\n\")\n",
        "print(california_housing.groupby(['latitude']).population.agg([min, max]))"
      ],
      "metadata": {
        "colab": {
          "base_uri": "https://localhost:8080/"
        },
        "id": "WDBJ51S3gUvb",
        "outputId": "defa218c-1d8f-4923-c3f9-0efd24904a08"
      },
      "execution_count": 68,
      "outputs": [
        {
          "output_type": "stream",
          "name": "stdout",
          "text": [
            "latitude\n",
            "32.56    1\n",
            "32.57    3\n",
            "32.58    6\n",
            "32.59    2\n",
            "32.60    1\n",
            "        ..\n",
            "41.31    1\n",
            "41.54    1\n",
            "41.63    1\n",
            "41.80    1\n",
            "41.92    1\n",
            "Name: latitude, Length: 587, dtype: int64\n",
            "\n",
            "\n",
            "\n",
            "latitude\n",
            "32.56   -117.09\n",
            "32.57   -117.11\n",
            "32.58   -117.05\n",
            "32.59   -117.12\n",
            "32.60   -117.07\n",
            "          ...  \n",
            "41.31   -122.32\n",
            "41.54   -123.92\n",
            "41.63   -122.64\n",
            "41.80   -124.17\n",
            "41.92   -124.16\n",
            "Length: 587, dtype: float64\n",
            "\n",
            "\n",
            "\n",
            "median_income  median_house_value\n",
            "0.4999         500001.0              34.02\n",
            "0.5360         87500.0               38.02\n",
            "               162500.0              37.67\n",
            "               275000.0              33.62\n",
            "0.5495         91700.0               33.96\n",
            "                                     ...  \n",
            "12.8763        500001.0              34.12\n",
            "13.6623        500001.0              33.02\n",
            "14.2867        500001.0              34.07\n",
            "15.0001        350000.0              37.74\n",
            "               500001.0              33.62\n",
            "Length: 2990, dtype: float64\n",
            "\n",
            "\n",
            "\n",
            "             min     max\n",
            "latitude                \n",
            "32.56      626.0   626.0\n",
            "32.57      930.0  1943.0\n",
            "32.58      330.0  1427.0\n",
            "32.59     1825.0  2814.0\n",
            "32.60      983.0   983.0\n",
            "...          ...     ...\n",
            "41.31      521.0   521.0\n",
            "41.54     1382.0  1382.0\n",
            "41.63     1108.0  1108.0\n",
            "41.80     1259.0  1259.0\n",
            "41.92      841.0   841.0\n",
            "\n",
            "[587 rows x 2 columns]\n"
          ]
        }
      ]
    },
    {
      "cell_type": "markdown",
      "source": [
        "**Мультииндекс**"
      ],
      "metadata": {
        "id": "pspnoxXbnaI4"
      }
    },
    {
      "cell_type": "markdown",
      "source": [
        "Функция groupby() немного отличается тем, что, в зависимости от выполняемой операции, она иногда приводит к так называемому мультииндексу.\n",
        "\n",
        "Мультииндекс отличается от обычного индекса тем, что он имеет несколько уровней. Например:"
      ],
      "metadata": {
        "id": "YVueF00AOL2z"
      }
    },
    {
      "cell_type": "code",
      "source": [
        "import pandas as pd\n",
        "\n",
        "california_housing = pd.read_csv(\"sample_data/california_housing_test.csv\")\n",
        "\n",
        "ex = california_housing.groupby(['latitude', 'longitude']).total_rooms.agg([max])\n",
        "\n",
        "print(ex)\n",
        "print(ex.index, end=\"\\n\\n\\n\")\n",
        "print(ex.reset_index())"
      ],
      "metadata": {
        "colab": {
          "base_uri": "https://localhost:8080/"
        },
        "id": "P6sNdWUFnfXf",
        "outputId": "af01dda5-6ff7-491d-d4a3-2960a2237c11"
      },
      "execution_count": 87,
      "outputs": [
        {
          "output_type": "stream",
          "name": "stdout",
          "text": [
            "                       max\n",
            "latitude longitude        \n",
            "32.56    -117.09     864.0\n",
            "32.57    -117.12    1450.0\n",
            "         -117.11    2723.0\n",
            "         -117.08    2203.0\n",
            "32.58    -117.13    2511.0\n",
            "...                    ...\n",
            "41.31    -122.32    1393.0\n",
            "41.54    -123.92    2920.0\n",
            "41.63    -122.64    2722.0\n",
            "41.80    -124.17    2739.0\n",
            "41.92    -124.16    1668.0\n",
            "\n",
            "[2712 rows x 1 columns]\n",
            "MultiIndex([(32.56, -117.09),\n",
            "            (32.57, -117.12),\n",
            "            (32.57, -117.11),\n",
            "            (32.57, -117.08),\n",
            "            (32.58, -117.13),\n",
            "            (32.58, -117.11),\n",
            "            (32.58,  -117.1),\n",
            "            (32.58, -117.08),\n",
            "            (32.58, -117.07),\n",
            "            (32.58, -117.05),\n",
            "            ...\n",
            "            (40.99, -123.35),\n",
            "            (41.01, -123.52),\n",
            "            ( 41.2, -122.27),\n",
            "            (41.23, -122.27),\n",
            "            (41.28, -122.45),\n",
            "            (41.31, -122.32),\n",
            "            (41.54, -123.92),\n",
            "            (41.63, -122.64),\n",
            "            ( 41.8, -124.17),\n",
            "            (41.92, -124.16)],\n",
            "           names=['latitude', 'longitude'], length=2712)\n",
            "\n",
            "\n",
            "      latitude  longitude     max\n",
            "0        32.56    -117.09   864.0\n",
            "1        32.57    -117.12  1450.0\n",
            "2        32.57    -117.11  2723.0\n",
            "3        32.57    -117.08  2203.0\n",
            "4        32.58    -117.13  2511.0\n",
            "...        ...        ...     ...\n",
            "2707     41.31    -122.32  1393.0\n",
            "2708     41.54    -123.92  2920.0\n",
            "2709     41.63    -122.64  2722.0\n",
            "2710     41.80    -124.17  2739.0\n",
            "2711     41.92    -124.16  1668.0\n",
            "\n",
            "[2712 rows x 3 columns]\n"
          ]
        }
      ]
    },
    {
      "cell_type": "markdown",
      "source": [
        "**Сортировка**"
      ],
      "metadata": {
        "id": "at-elgvbos8J"
      }
    },
    {
      "cell_type": "code",
      "source": [
        "import pandas as pd\n",
        "\n",
        "california_housing = pd.read_csv(\"sample_data/california_housing_test.csv\")\n",
        "ex = california_housing.groupby(['latitude', 'longitude']).total_rooms.agg([max])\n",
        "ex = ex.reset_index()\n",
        "ex = ex.sort_values(by='max')\n",
        "print(ex)\n",
        "print(end='\\n\\n\\n')\n",
        "ex = ex.sort_values(by='max', ascending=False)\n",
        "print(ex)\n",
        "print(end='\\n\\n\\n')\n",
        "ex = ex.sort_index()\n",
        "print(ex)\n",
        "print(end='\\n\\n\\n')\n",
        "ex = ex.sort_values(by=['max', 'latitude'])\n",
        "print(ex)\n",
        "print(end='\\n\\n\\n')"
      ],
      "metadata": {
        "colab": {
          "base_uri": "https://localhost:8080/"
        },
        "id": "d3HOVVuZovZw",
        "outputId": "ca1a621f-ec2a-468f-d25c-3dd095b192d9"
      },
      "execution_count": 74,
      "outputs": [
        {
          "output_type": "stream",
          "name": "stdout",
          "text": [
            "      latitude  longitude      max\n",
            "520      33.86    -116.95      6.0\n",
            "20       32.66    -117.12     16.0\n",
            "261      33.62    -114.62     18.0\n",
            "1996     37.67    -121.04     19.0\n",
            "871      34.03    -118.06     21.0\n",
            "...        ...        ...      ...\n",
            "235      33.49    -117.12  21988.0\n",
            "198      33.15    -117.27  23915.0\n",
            "385      33.78    -116.36  24121.0\n",
            "2418     38.48    -121.53  27870.0\n",
            "248      33.58    -117.20  30450.0\n",
            "\n",
            "[2712 rows x 3 columns]\n",
            "\n",
            "\n",
            "\n",
            "      latitude  longitude      max\n",
            "248      33.58    -117.20  30450.0\n",
            "2418     38.48    -121.53  27870.0\n",
            "385      33.78    -116.36  24121.0\n",
            "198      33.15    -117.27  23915.0\n",
            "235      33.49    -117.12  21988.0\n",
            "...        ...        ...      ...\n",
            "871      34.03    -118.06     21.0\n",
            "1996     37.67    -121.04     19.0\n",
            "261      33.62    -114.62     18.0\n",
            "20       32.66    -117.12     16.0\n",
            "520      33.86    -116.95      6.0\n",
            "\n",
            "[2712 rows x 3 columns]\n",
            "\n",
            "\n",
            "\n",
            "      latitude  longitude     max\n",
            "0        32.56    -117.09   864.0\n",
            "1        32.57    -117.12  1450.0\n",
            "2        32.57    -117.11  2723.0\n",
            "3        32.57    -117.08  2203.0\n",
            "4        32.58    -117.13  2511.0\n",
            "...        ...        ...     ...\n",
            "2707     41.31    -122.32  1393.0\n",
            "2708     41.54    -123.92  2920.0\n",
            "2709     41.63    -122.64  2722.0\n",
            "2710     41.80    -124.17  2739.0\n",
            "2711     41.92    -124.16  1668.0\n",
            "\n",
            "[2712 rows x 3 columns]\n",
            "\n",
            "\n",
            "\n",
            "      latitude  longitude      max\n",
            "520      33.86    -116.95      6.0\n",
            "20       32.66    -117.12     16.0\n",
            "261      33.62    -114.62     18.0\n",
            "1996     37.67    -121.04     19.0\n",
            "871      34.03    -118.06     21.0\n",
            "...        ...        ...      ...\n",
            "235      33.49    -117.12  21988.0\n",
            "198      33.15    -117.27  23915.0\n",
            "385      33.78    -116.36  24121.0\n",
            "2418     38.48    -121.53  27870.0\n",
            "248      33.58    -117.20  30450.0\n",
            "\n",
            "[2712 rows x 3 columns]\n",
            "\n",
            "\n",
            "\n"
          ]
        }
      ]
    },
    {
      "cell_type": "markdown",
      "source": [
        "**Переименования**"
      ],
      "metadata": {
        "id": "AgvWAViAr_4E"
      }
    },
    {
      "cell_type": "code",
      "source": [
        "import pandas as pd\n",
        "\n",
        "california_housing = pd.read_csv(\"sample_data/california_housing_test.csv\")\n",
        "ex = california_housing.groupby(['latitude', 'longitude']).total_rooms.agg([max])\n",
        "ex = ex.reset_index()\n",
        "print(ex)\n",
        "ex = ex.rename(columns = {'latitude' : 'new_latitude'})\n",
        "print(ex)\n",
        "ex = ex.rename(index = {0 : 'firstEntry', 1 : 'secondEntry'})\n",
        "print(ex)"
      ],
      "metadata": {
        "colab": {
          "base_uri": "https://localhost:8080/"
        },
        "id": "EundmQdOuEr7",
        "outputId": "16aeeccf-2117-4351-bee0-260cf3a1305d"
      },
      "execution_count": 75,
      "outputs": [
        {
          "output_type": "stream",
          "name": "stdout",
          "text": [
            "      latitude  longitude     max\n",
            "0        32.56    -117.09   864.0\n",
            "1        32.57    -117.12  1450.0\n",
            "2        32.57    -117.11  2723.0\n",
            "3        32.57    -117.08  2203.0\n",
            "4        32.58    -117.13  2511.0\n",
            "...        ...        ...     ...\n",
            "2707     41.31    -122.32  1393.0\n",
            "2708     41.54    -123.92  2920.0\n",
            "2709     41.63    -122.64  2722.0\n",
            "2710     41.80    -124.17  2739.0\n",
            "2711     41.92    -124.16  1668.0\n",
            "\n",
            "[2712 rows x 3 columns]\n",
            "      new_latitude  longitude     max\n",
            "0            32.56    -117.09   864.0\n",
            "1            32.57    -117.12  1450.0\n",
            "2            32.57    -117.11  2723.0\n",
            "3            32.57    -117.08  2203.0\n",
            "4            32.58    -117.13  2511.0\n",
            "...            ...        ...     ...\n",
            "2707         41.31    -122.32  1393.0\n",
            "2708         41.54    -123.92  2920.0\n",
            "2709         41.63    -122.64  2722.0\n",
            "2710         41.80    -124.17  2739.0\n",
            "2711         41.92    -124.16  1668.0\n",
            "\n",
            "[2712 rows x 3 columns]\n",
            "             new_latitude  longitude     max\n",
            "firstEntry          32.56    -117.09   864.0\n",
            "secondEntry         32.57    -117.12  1450.0\n",
            "2                   32.57    -117.11  2723.0\n",
            "3                   32.57    -117.08  2203.0\n",
            "4                   32.58    -117.13  2511.0\n",
            "...                   ...        ...     ...\n",
            "2707                41.31    -122.32  1393.0\n",
            "2708                41.54    -123.92  2920.0\n",
            "2709                41.63    -122.64  2722.0\n",
            "2710                41.80    -124.17  2739.0\n",
            "2711                41.92    -124.16  1668.0\n",
            "\n",
            "[2712 rows x 3 columns]\n"
          ]
        }
      ]
    },
    {
      "cell_type": "markdown",
      "source": [
        "**Oбъединение таблиц**"
      ],
      "metadata": {
        "id": "Cgx4Ez3E2iwV"
      }
    },
    {
      "cell_type": "code",
      "source": [
        "import pandas as pd\n",
        "\n",
        "california_housing = pd.read_csv(\"sample_data/california_housing_test.csv\")\n",
        "california_housing_2 = pd.read_csv(\"sample_data/california_housing_train.csv\")\n",
        "\n",
        "print(california_housing)\n",
        "print(california_housing_2)\n",
        "print(end=\"\\n\\n\\n\")\n",
        "print(pd.concat([california_housing, california_housing_2]).head)\n",
        "print(end=\"\\n\\n\\n\\n\")\n",
        "print(california_housing.join(california_housing_2, lsuffix='_1', rsuffix='_2'))"
      ],
      "metadata": {
        "colab": {
          "base_uri": "https://localhost:8080/"
        },
        "id": "8BI5DdbG23TI",
        "outputId": "dd3f7112-a33c-4e28-d640-10193393df25"
      },
      "execution_count": 79,
      "outputs": [
        {
          "output_type": "stream",
          "name": "stdout",
          "text": [
            "      longitude  latitude  housing_median_age  total_rooms  total_bedrooms  \\\n",
            "0       -122.05     37.37                27.0       3885.0           661.0   \n",
            "1       -118.30     34.26                43.0       1510.0           310.0   \n",
            "2       -117.81     33.78                27.0       3589.0           507.0   \n",
            "3       -118.36     33.82                28.0         67.0            15.0   \n",
            "4       -119.67     36.33                19.0       1241.0           244.0   \n",
            "...         ...       ...                 ...          ...             ...   \n",
            "2995    -119.86     34.42                23.0       1450.0           642.0   \n",
            "2996    -118.14     34.06                27.0       5257.0          1082.0   \n",
            "2997    -119.70     36.30                10.0        956.0           201.0   \n",
            "2998    -117.12     34.10                40.0         96.0            14.0   \n",
            "2999    -119.63     34.42                42.0       1765.0           263.0   \n",
            "\n",
            "      population  households  median_income  median_house_value  \n",
            "0         1537.0       606.0         6.6085            344700.0  \n",
            "1          809.0       277.0         3.5990            176500.0  \n",
            "2         1484.0       495.0         5.7934            270500.0  \n",
            "3           49.0        11.0         6.1359            330000.0  \n",
            "4          850.0       237.0         2.9375             81700.0  \n",
            "...          ...         ...            ...                 ...  \n",
            "2995      1258.0       607.0         1.1790            225000.0  \n",
            "2996      3496.0      1036.0         3.3906            237200.0  \n",
            "2997       693.0       220.0         2.2895             62000.0  \n",
            "2998        46.0        14.0         3.2708            162500.0  \n",
            "2999       753.0       260.0         8.5608            500001.0  \n",
            "\n",
            "[3000 rows x 9 columns]\n",
            "       longitude  latitude  housing_median_age  total_rooms  total_bedrooms  \\\n",
            "0        -114.31     34.19                15.0       5612.0          1283.0   \n",
            "1        -114.47     34.40                19.0       7650.0          1901.0   \n",
            "2        -114.56     33.69                17.0        720.0           174.0   \n",
            "3        -114.57     33.64                14.0       1501.0           337.0   \n",
            "4        -114.57     33.57                20.0       1454.0           326.0   \n",
            "...          ...       ...                 ...          ...             ...   \n",
            "16995    -124.26     40.58                52.0       2217.0           394.0   \n",
            "16996    -124.27     40.69                36.0       2349.0           528.0   \n",
            "16997    -124.30     41.84                17.0       2677.0           531.0   \n",
            "16998    -124.30     41.80                19.0       2672.0           552.0   \n",
            "16999    -124.35     40.54                52.0       1820.0           300.0   \n",
            "\n",
            "       population  households  median_income  median_house_value  \n",
            "0          1015.0       472.0         1.4936             66900.0  \n",
            "1          1129.0       463.0         1.8200             80100.0  \n",
            "2           333.0       117.0         1.6509             85700.0  \n",
            "3           515.0       226.0         3.1917             73400.0  \n",
            "4           624.0       262.0         1.9250             65500.0  \n",
            "...           ...         ...            ...                 ...  \n",
            "16995       907.0       369.0         2.3571            111400.0  \n",
            "16996      1194.0       465.0         2.5179             79000.0  \n",
            "16997      1244.0       456.0         3.0313            103600.0  \n",
            "16998      1298.0       478.0         1.9797             85800.0  \n",
            "16999       806.0       270.0         3.0147             94600.0  \n",
            "\n",
            "[17000 rows x 9 columns]\n",
            "\n",
            "\n",
            "\n",
            "<bound method NDFrame.head of        longitude  latitude  housing_median_age  total_rooms  total_bedrooms  \\\n",
            "0        -122.05     37.37                27.0       3885.0           661.0   \n",
            "1        -118.30     34.26                43.0       1510.0           310.0   \n",
            "2        -117.81     33.78                27.0       3589.0           507.0   \n",
            "3        -118.36     33.82                28.0         67.0            15.0   \n",
            "4        -119.67     36.33                19.0       1241.0           244.0   \n",
            "...          ...       ...                 ...          ...             ...   \n",
            "16995    -124.26     40.58                52.0       2217.0           394.0   \n",
            "16996    -124.27     40.69                36.0       2349.0           528.0   \n",
            "16997    -124.30     41.84                17.0       2677.0           531.0   \n",
            "16998    -124.30     41.80                19.0       2672.0           552.0   \n",
            "16999    -124.35     40.54                52.0       1820.0           300.0   \n",
            "\n",
            "       population  households  median_income  median_house_value  \n",
            "0          1537.0       606.0         6.6085            344700.0  \n",
            "1           809.0       277.0         3.5990            176500.0  \n",
            "2          1484.0       495.0         5.7934            270500.0  \n",
            "3            49.0        11.0         6.1359            330000.0  \n",
            "4           850.0       237.0         2.9375             81700.0  \n",
            "...           ...         ...            ...                 ...  \n",
            "16995       907.0       369.0         2.3571            111400.0  \n",
            "16996      1194.0       465.0         2.5179             79000.0  \n",
            "16997      1244.0       456.0         3.0313            103600.0  \n",
            "16998      1298.0       478.0         1.9797             85800.0  \n",
            "16999       806.0       270.0         3.0147             94600.0  \n",
            "\n",
            "[20000 rows x 9 columns]>\n",
            "\n",
            "\n",
            "\n",
            "\n",
            "      longitude_1  latitude_1  housing_median_age_1  total_rooms_1  \\\n",
            "0         -122.05       37.37                  27.0         3885.0   \n",
            "1         -118.30       34.26                  43.0         1510.0   \n",
            "2         -117.81       33.78                  27.0         3589.0   \n",
            "3         -118.36       33.82                  28.0           67.0   \n",
            "4         -119.67       36.33                  19.0         1241.0   \n",
            "...           ...         ...                   ...            ...   \n",
            "2995      -119.86       34.42                  23.0         1450.0   \n",
            "2996      -118.14       34.06                  27.0         5257.0   \n",
            "2997      -119.70       36.30                  10.0          956.0   \n",
            "2998      -117.12       34.10                  40.0           96.0   \n",
            "2999      -119.63       34.42                  42.0         1765.0   \n",
            "\n",
            "      total_bedrooms_1  population_1  households_1  median_income_1  \\\n",
            "0                661.0        1537.0         606.0           6.6085   \n",
            "1                310.0         809.0         277.0           3.5990   \n",
            "2                507.0        1484.0         495.0           5.7934   \n",
            "3                 15.0          49.0          11.0           6.1359   \n",
            "4                244.0         850.0         237.0           2.9375   \n",
            "...                ...           ...           ...              ...   \n",
            "2995             642.0        1258.0         607.0           1.1790   \n",
            "2996            1082.0        3496.0        1036.0           3.3906   \n",
            "2997             201.0         693.0         220.0           2.2895   \n",
            "2998              14.0          46.0          14.0           3.2708   \n",
            "2999             263.0         753.0         260.0           8.5608   \n",
            "\n",
            "      median_house_value_1  longitude_2  latitude_2  housing_median_age_2  \\\n",
            "0                 344700.0      -114.31       34.19                  15.0   \n",
            "1                 176500.0      -114.47       34.40                  19.0   \n",
            "2                 270500.0      -114.56       33.69                  17.0   \n",
            "3                 330000.0      -114.57       33.64                  14.0   \n",
            "4                  81700.0      -114.57       33.57                  20.0   \n",
            "...                    ...          ...         ...                   ...   \n",
            "2995              225000.0      -117.79       34.02                   5.0   \n",
            "2996              237200.0      -117.79       33.88                  17.0   \n",
            "2997               62000.0      -117.79       33.84                   9.0   \n",
            "2998              162500.0      -117.79       33.80                  11.0   \n",
            "2999              500001.0      -117.79       33.77                  23.0   \n",
            "\n",
            "      total_rooms_2  total_bedrooms_2  population_2  households_2  \\\n",
            "0            5612.0            1283.0        1015.0         472.0   \n",
            "1            7650.0            1901.0        1129.0         463.0   \n",
            "2             720.0             174.0         333.0         117.0   \n",
            "3            1501.0             337.0         515.0         226.0   \n",
            "4            1454.0             326.0         624.0         262.0   \n",
            "...             ...               ...           ...           ...   \n",
            "2995        18690.0            2862.0        9427.0        2777.0   \n",
            "2996         8562.0            1351.0        3822.0        1316.0   \n",
            "2997        10484.0            1603.0        4005.0        1419.0   \n",
            "2998        10535.0            1620.0        4409.0        1622.0   \n",
            "2999         3596.0             451.0        1292.0         458.0   \n",
            "\n",
            "      median_income_2  median_house_value_2  \n",
            "0              1.4936               66900.0  \n",
            "1              1.8200               80100.0  \n",
            "2              1.6509               85700.0  \n",
            "3              3.1917               73400.0  \n",
            "4              1.9250               65500.0  \n",
            "...               ...                   ...  \n",
            "2995           6.4266              315600.0  \n",
            "2996           6.0829              252600.0  \n",
            "2997           8.3931              365300.0  \n",
            "2998           6.6700              283200.0  \n",
            "2999           8.5403              451300.0  \n",
            "\n",
            "[3000 rows x 18 columns]\n"
          ]
        }
      ]
    },
    {
      "cell_type": "markdown",
      "source": [
        "# Примеры задач"
      ],
      "metadata": {
        "id": "AAe24SasR_9F"
      }
    },
    {
      "cell_type": "code",
      "source": [
        "import pandas as pd\n",
        "solutions = pd.read_csv(\"sample_data/labs_solutions.csv\", sep=';')\n",
        "\n",
        "print(solutions)"
      ],
      "metadata": {
        "colab": {
          "base_uri": "https://localhost:8080/"
        },
        "id": "q_PxeR2iUmkC",
        "outputId": "d44c3996-15d5-49f9-9625-cadb8161b69e"
      },
      "execution_count": 11,
      "outputs": [
        {
          "output_type": "stream",
          "name": "stdout",
          "text": [
            "       solution_id  problem_id  user_id  contest_id    filename  \\\n",
            "0                1        1000     1001         NaN         NaN   \n",
            "1                2        1000     1001         NaN         NaN   \n",
            "2                3        1000     1001         NaN         NaN   \n",
            "3                4        1301    10663      1000.0  Program.cs   \n",
            "4                5        1308    10668      1000.0   task12.cs   \n",
            "...            ...         ...      ...         ...         ...   \n",
            "65995        65996        1021    12774      1239.0         NaN   \n",
            "65996        65997        1013    11540      1051.0         NaN   \n",
            "65997        65998        1335    11387      1061.0         NaN   \n",
            "65998        65999        1109    11861      1088.0         NaN   \n",
            "65999        66000        1050    11496      1051.0         NaN   \n",
            "\n",
            "                               checksum  lang_id  posted_time  checked_time  \\\n",
            "0      e0906b1de689ae9a9daa3ed52d8ee0ac       12   1661652663    1661652668   \n",
            "1      e0906b1de689ae9a9daa3ed52d8ee0ac       12   1661652856    1661652858   \n",
            "2      e0906b1de689ae9a9daa3ed52d8ee0ac       12   1661653228    1661653231   \n",
            "3      a42fde49e190618a8293774321e31ace       14   1661883446    1661898552   \n",
            "4      95b38d71ae4c09c10aafb8d91f07e630       14   1661890954    1661898553   \n",
            "...                                 ...      ...          ...           ...   \n",
            "65995  8fba9517bf89456d36b0a1d738b6df07       12   1665765177    1665765181   \n",
            "65996  df9ef9c63b41d7c2938d2be4d19dabbf       12   1665765182    1665765184   \n",
            "65997  d9c7d41e9cc8be38e11974a4f836c8c7       37   1665765190    1665765196   \n",
            "65998  933caa452bc489c8473e09be2fbc20fe       12   1665765220    1665765223   \n",
            "65999  7003e8feb8a53bdfee544746073610a6       12   1665765248    1665765251   \n",
            "\n",
            "       contest_time  test_result  test_score  score  \n",
            "0        1661652663            0       100.0  100.0  \n",
            "1        1661652856            0       100.0  100.0  \n",
            "2        1661653228            0       100.0  100.0  \n",
            "3             47846            0       100.0  100.0  \n",
            "4             55354           64         0.0    0.0  \n",
            "...             ...          ...         ...    ...  \n",
            "65995       1744677            8         0.0    0.0  \n",
            "65996       3305822            0       100.0  100.0  \n",
            "65997        242350            0       100.0  100.0  \n",
            "65998       3026020            0       100.0  100.0  \n",
            "65999       3305888            4         0.0    0.0  \n",
            "\n",
            "[66000 rows x 13 columns]\n"
          ]
        }
      ]
    },
    {
      "cell_type": "markdown",
      "source": [
        "1. количество решений на разных языках программирования"
      ],
      "metadata": {
        "id": "qc-Ska8wSXA3"
      }
    },
    {
      "cell_type": "code",
      "source": [
        "import pandas as pd\n",
        "solutions = pd.read_csv(\"sample_data/labs_solutions.csv\", sep=';')\n",
        "\n",
        "print(solutions.lang_id.value_counts())"
      ],
      "metadata": {
        "colab": {
          "base_uri": "https://localhost:8080/"
        },
        "id": "bptvNCZLTEJk",
        "outputId": "740e9026-794d-4870-e1f3-3d3b535dbf2b"
      },
      "execution_count": 81,
      "outputs": [
        {
          "output_type": "stream",
          "name": "stdout",
          "text": [
            "12    19844\n",
            "37    17253\n",
            "4     12336\n",
            "30     5458\n",
            "35     3183\n",
            "14     1747\n",
            "39     1461\n",
            "3      1364\n",
            "19      960\n",
            "20      635\n",
            "28      541\n",
            "26      395\n",
            "17      388\n",
            "11      115\n",
            "31      107\n",
            "18       71\n",
            "34       48\n",
            "13       48\n",
            "2        23\n",
            "23       13\n",
            "25        4\n",
            "27        3\n",
            "5         1\n",
            "21        1\n",
            "16        1\n",
            "Name: lang_id, dtype: int64\n"
          ]
        }
      ]
    },
    {
      "cell_type": "markdown",
      "source": [
        "2. количество различных решённых задач"
      ],
      "metadata": {
        "id": "uayj0LqjUbYv"
      }
    },
    {
      "cell_type": "code",
      "source": [
        "import pandas as pd\n",
        "solutions = pd.read_csv(\"sample_data/labs_solutions.csv\", sep=';')\n",
        "\n",
        "print(len(solutions[solutions.score <= 100.0].problem_id.unique()))"
      ],
      "metadata": {
        "colab": {
          "base_uri": "https://localhost:8080/"
        },
        "id": "TN1o8h3uUgCY",
        "outputId": "9c232538-a0f8-4ef7-bc3a-65f513ff7f65"
      },
      "execution_count": 88,
      "outputs": [
        {
          "output_type": "stream",
          "name": "stdout",
          "text": [
            "637\n"
          ]
        }
      ]
    },
    {
      "cell_type": "markdown",
      "source": [
        "3. количество различных контестов"
      ],
      "metadata": {
        "id": "AQby0luUVTjD"
      }
    },
    {
      "cell_type": "code",
      "source": [
        "import pandas as pd\n",
        "solutions = pd.read_csv(\"sample_data/labs_solutions.csv\", sep=';')\n",
        "\n",
        "print(len(solutions[solutions.contest_id.notnull()].contest_id.unique()))"
      ],
      "metadata": {
        "colab": {
          "base_uri": "https://localhost:8080/"
        },
        "id": "fQ1RT2vnVUOS",
        "outputId": "65ec7969-79de-4bf6-9d9b-77abc4c24da0"
      },
      "execution_count": 84,
      "outputs": [
        {
          "output_type": "stream",
          "name": "stdout",
          "text": [
            "447\n"
          ]
        }
      ]
    },
    {
      "cell_type": "markdown",
      "source": [
        "4. количество ОК"
      ],
      "metadata": {
        "id": "eG5ws6xxWUv_"
      }
    },
    {
      "cell_type": "code",
      "source": [
        "import pandas as pd\n",
        "solutions = pd.read_csv(\"sample_data/labs_solutions.csv\", sep=';')\n",
        "\n",
        "print(len(solutions[solutions.score == 100.00]))"
      ],
      "metadata": {
        "colab": {
          "base_uri": "https://localhost:8080/"
        },
        "id": "KyBYBDQMWUjS",
        "outputId": "591d5232-47f2-42f6-aa83-ef5ea0e3bd03"
      },
      "execution_count": 16,
      "outputs": [
        {
          "output_type": "stream",
          "name": "stdout",
          "text": [
            "28390\n"
          ]
        }
      ]
    },
    {
      "cell_type": "markdown",
      "source": [
        "5. количество решений на >= X%"
      ],
      "metadata": {
        "id": "vgLbQxpWayVC"
      }
    },
    {
      "cell_type": "code",
      "source": [
        "import pandas as pd\n",
        "solutions = pd.read_csv(\"sample_data/labs_solutions.csv\", sep=';')\n",
        "\n",
        "x = float(input())\n",
        "\n",
        "print(len(solutions[solutions.score >= x]))"
      ],
      "metadata": {
        "id": "ep1LMMQha1Im",
        "colab": {
          "base_uri": "https://localhost:8080/"
        },
        "outputId": "4fb4d7b5-fcd5-4686-b471-f4866e40642c"
      },
      "execution_count": 90,
      "outputs": [
        {
          "output_type": "stream",
          "name": "stdout",
          "text": [
            "05\n",
            "44856\n"
          ]
        }
      ]
    },
    {
      "cell_type": "markdown",
      "source": [
        "6. количество решений с одинаковой md5"
      ],
      "metadata": {
        "id": "xVmBGrE9b8ws"
      }
    },
    {
      "cell_type": "code",
      "source": [
        "import pandas as pd\n",
        "solutions = pd.read_csv(\"sample_data/labs_solutions.csv\", sep=';')\n",
        "\n",
        "print(solutions.checksum.value_counts(), end=\"\\n\\n\")\n",
        "\n",
        "print(solutions[solutions.checksum == '1617611c9416297b6d60a2b94d363813'].problem_id.unique())"
      ],
      "metadata": {
        "colab": {
          "base_uri": "https://localhost:8080/"
        },
        "id": "2qtAhCcrb9bh",
        "outputId": "b6191fe7-e865-470c-aa05-5b3bc02fa152"
      },
      "execution_count": 94,
      "outputs": [
        {
          "output_type": "stream",
          "name": "stdout",
          "text": [
            "5373a64586b720d400d7129dd72af164    125\n",
            "e0906b1de689ae9a9daa3ed52d8ee0ac     90\n",
            "1617611c9416297b6d60a2b94d363813     55\n",
            "ee6ff50d5205652870756f0f6b3b5e20     53\n",
            "aad42149ff16f5e0a23d78a9030e32d3     53\n",
            "                                   ... \n",
            "d868afd186611e4f4787b35d3ea65913      1\n",
            "4383f3fc56898c0718325924faac7ce0      1\n",
            "c2ff644fd55a0246d9f6da690848d5ad      1\n",
            "e8e0d97afe1d2bae7310be569c10b7c3      1\n",
            "7003e8feb8a53bdfee544746073610a6      1\n",
            "Name: checksum, Length: 56133, dtype: int64\n",
            "\n",
            "[1115 1109 1128 1111 1108 1141]\n"
          ]
        }
      ]
    },
    {
      "cell_type": "markdown",
      "source": [
        "7. топ-10 пользователей по количеству отправок"
      ],
      "metadata": {
        "id": "aBNnRT-rjoRW"
      }
    },
    {
      "cell_type": "code",
      "source": [
        "import pandas as pd\n",
        "solutions = pd.read_csv(\"sample_data/labs_solutions.csv\", sep=';')\n",
        "\n",
        "print(solutions.user_id.value_counts().head(10))"
      ],
      "metadata": {
        "colab": {
          "base_uri": "https://localhost:8080/"
        },
        "id": "wsJhBtCfjtTJ",
        "outputId": "63144a67-347c-43de-9d63-2c4fd1a5f05e"
      },
      "execution_count": 96,
      "outputs": [
        {
          "output_type": "stream",
          "name": "stdout",
          "text": [
            "10042    540\n",
            "12417    473\n",
            "10755    385\n",
            "10273    371\n",
            "1002     322\n",
            "12425    301\n",
            "11186    271\n",
            "11206    268\n",
            "12164    267\n",
            "11397    262\n",
            "Name: user_id, dtype: int64\n"
          ]
        }
      ]
    },
    {
      "cell_type": "markdown",
      "source": [
        "8. топ-10 самых непопулярных задач"
      ],
      "metadata": {
        "id": "9geCYfNSnCQd"
      }
    },
    {
      "cell_type": "code",
      "source": [
        "import pandas as pd\n",
        "solutions = pd.read_csv(\"sample_data/labs_solutions.csv\", sep=';')\n",
        "\n",
        "print(solutions[solutions['score'] == 100.0].problem_id.value_counts(ascending=True))"
      ],
      "metadata": {
        "colab": {
          "base_uri": "https://localhost:8080/"
        },
        "id": "rB0EBFWCnDOA",
        "outputId": "6fbd9eee-037a-4c0f-acc3-47a7f2b3d38a"
      },
      "execution_count": 98,
      "outputs": [
        {
          "output_type": "stream",
          "name": "stdout",
          "text": [
            "1420      1\n",
            "2084      1\n",
            "2283      1\n",
            "1354      1\n",
            "1256      1\n",
            "       ... \n",
            "1001    437\n",
            "1011    461\n",
            "1010    562\n",
            "1009    596\n",
            "1000    700\n",
            "Name: problem_id, Length: 611, dtype: int64\n"
          ]
        }
      ]
    },
    {
      "cell_type": "markdown",
      "source": [
        "# Д/З"
      ],
      "metadata": {
        "id": "MAFLUJEBiV9G"
      }
    },
    {
      "cell_type": "markdown",
      "source": [
        "1. какой балл встречается чаще всего"
      ],
      "metadata": {
        "id": "SUbH8O-WzmLh"
      }
    },
    {
      "cell_type": "markdown",
      "source": [
        "2. топ-10 пользователей по количеству ОК по разным  задачам"
      ],
      "metadata": {
        "id": "vuryb2YmyIUr"
      }
    },
    {
      "cell_type": "markdown",
      "source": [
        "3. количество решений на >= X% и <= Y%"
      ],
      "metadata": {
        "id": "kr-5lO6Uztup"
      }
    },
    {
      "cell_type": "markdown",
      "source": [
        "4. промежуток времени длинной в сутки, когда было больше всего отправок"
      ],
      "metadata": {
        "id": "pizqQoF5yNxQ"
      }
    }
  ]
}