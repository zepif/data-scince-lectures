{
  "nbformat": 4,
  "nbformat_minor": 0,
  "metadata": {
    "colab": {
      "provenance": [],
      "collapsed_sections": [
        "zHz43_ATMSA-",
        "BuwHEWWLgZJD",
        "USQ5FrJxJ1dq"
      ]
    },
    "kernelspec": {
      "name": "python3",
      "display_name": "Python 3"
    },
    "language_info": {
      "name": "python"
    }
  },
  "cells": [
    {
      "cell_type": "markdown",
      "source": [
        "# IDE"
      ],
      "metadata": {
        "id": "yNK6s_Ac40k8"
      }
    },
    {
      "cell_type": "markdown",
      "source": [
        "1) Pycharm\n",
        "\n",
        "2) Thonny \n",
        "\n",
        "3) Jupyter Notebook\n",
        "\n",
        "и др."
      ],
      "metadata": {
        "id": "kUkZojNHKRUn"
      }
    },
    {
      "cell_type": "markdown",
      "source": [
        "# Пример простого кода на Python:\n"
      ],
      "metadata": {
        "id": "EkPs5m017GK-"
      }
    },
    {
      "cell_type": "code",
      "source": [
        "spam_amount = 0\n",
        "# int spam_amount = 0;\n",
        "print(spam_amount, end='\\n')\n",
        "\n",
        "spam_amount = spam_amount + 4\n",
        "spam_amount += 4\n",
        "#spam_amount++\n",
        "if (spam_amount <= 0 and ...): #(or)\n",
        "    print(\"I don't want any spam!\")\n",
        "else:\n",
        "    song = \"Spam \" * spam_amount\n",
        "    print(song)"
      ],
      "metadata": {
        "id": "hJkbAaw97C1a",
        "outputId": "ed836033-158d-4d82-9ceb-63a67548de00",
        "colab": {
          "base_uri": "https://localhost:8080/"
        }
      },
      "execution_count": null,
      "outputs": [
        {
          "output_type": "stream",
          "name": "stdout",
          "text": [
            "0\n",
            "Spam Spam Spam Spam Spam Spam Spam Spam \n"
          ]
        }
      ]
    },
    {
      "cell_type": "markdown",
      "source": [
        "Основные отличия от C++/Pascal:\n",
        "\n",
        "1) Назначение переменных.\n",
        "\n",
        "2) Вызов функций print.\n",
        "\n",
        "3) Переназначение переменных \n",
        "\n",
        "4) Условные операторы"
      ],
      "metadata": {
        "id": "ZtFjIdvq-wn4"
      }
    },
    {
      "cell_type": "markdown",
      "source": [
        "# Типы данных в Python\n",
        "\n"
      ],
      "metadata": {
        "id": "VF2ObaeXC3Ul"
      }
    },
    {
      "cell_type": "code",
      "source": [
        "#Integer\n",
        "x = 123\n",
        "print(type(x))\n",
        "print(x)"
      ],
      "metadata": {
        "colab": {
          "base_uri": "https://localhost:8080/"
        },
        "id": "sTG0hbI4Fm5u",
        "outputId": "64a13e7c-684c-407b-ff2e-3afe1b205040"
      },
      "execution_count": null,
      "outputs": [
        {
          "output_type": "stream",
          "name": "stdout",
          "text": [
            "<class 'int'>\n",
            "123\n"
          ]
        }
      ]
    },
    {
      "cell_type": "code",
      "source": [
        "#Floats\n",
        "pi = 3.1415926535897932384626\n",
        "print(type(pi))\n",
        "print(pi)\n",
        "almost_pi = 355 / 113\n",
        "print(almost_pi)\n",
        "almost_pi = round(almost_pi, 4)\n",
        "print(almost_pi)\n",
        "x_float = 1.\n",
        "print(x_float)\n",
        "print(type(x_float))"
      ],
      "metadata": {
        "colab": {
          "base_uri": "https://localhost:8080/"
        },
        "id": "0v02i_mnF7-3",
        "outputId": "c412f76c-db57-4987-dde6-fa82ac7b16f3"
      },
      "execution_count": null,
      "outputs": [
        {
          "output_type": "stream",
          "name": "stdout",
          "text": [
            "<class 'float'>\n",
            "3.141592653589793\n",
            "3.1415929203539825\n",
            "3.1416\n",
            "1.0\n",
            "<class 'float'>\n"
          ]
        }
      ]
    },
    {
      "cell_type": "code",
      "source": [
        "#Booleans\n",
        "x = True # False\n",
        "print(x)\n",
        "print(type(x))\n",
        "x = (3 < 5)\n",
        "print(x)\n",
        "x = (3.05 < 5)\n",
        "y = not (3.9 < 5)\n",
        "print('x : ', x, 'y : ', y)"
      ],
      "metadata": {
        "colab": {
          "base_uri": "https://localhost:8080/"
        },
        "id": "7EfKPLgCHRoP",
        "outputId": "210e3a10-0913-4b2e-c672-b176965e9db3"
      },
      "execution_count": null,
      "outputs": [
        {
          "output_type": "stream",
          "name": "stdout",
          "text": [
            "True\n",
            "<class 'bool'>\n",
            "True\n",
            "x :  True y :  False\n"
          ]
        }
      ]
    },
    {
      "cell_type": "code",
      "source": [
        "#Strings\n",
        "x = \"Hello World!\"\n",
        "print(x)\n",
        "print(type(x))\n",
        "print(len(x))\n",
        "x = \"abc\" + \"fed\"\n",
        "print(x)\n",
        "x = \"abc\" * 3\n",
        "print(x)\n",
        "print(x[0], x[1], x[2])\n",
        "x = 'Pluto is a planet'\n",
        "y = \"Pluto is a planet\"\n",
        "print(x == y)\n",
        "print(x[:5], x[-6:]) # :x - первые x символов \n",
        "                     # -y: - последние y символов\n"
      ],
      "metadata": {
        "colab": {
          "base_uri": "https://localhost:8080/"
        },
        "id": "HgZ_1RelIP1i",
        "outputId": "7eb5ef15-797d-4020-f158-853a1c4a4a6f"
      },
      "execution_count": null,
      "outputs": [
        {
          "output_type": "stream",
          "name": "stdout",
          "text": [
            "Hello World!\n",
            "<class 'str'>\n",
            "12\n",
            "abcfed\n",
            "abcabcabc\n",
            "a b c\n",
            "True\n",
            "Pluto planet\n"
          ]
        }
      ]
    },
    {
      "cell_type": "markdown",
      "source": [
        "Типы данных аналогичны тем, что есть в С++"
      ],
      "metadata": {
        "id": "mrH6p0wJL--D"
      }
    },
    {
      "cell_type": "markdown",
      "source": [
        "# Функции и процедуры в Python\n"
      ],
      "metadata": {
        "id": "5IP86OUGKENw"
      }
    },
    {
      "cell_type": "code",
      "source": [
        "def least_difference(a, b, c):\n",
        "    diff1 = abs(a - b)\n",
        "    diff2 = abs(b - c)\n",
        "    diff3 = abs(a - c)\n",
        "    return min(diff1, diff2, diff3)\n",
        "print(\n",
        "    least_difference(1, 10, 100),\n",
        "    least_difference(1, 10, 10),\n",
        "    least_difference(5, 6, 7), \n",
        ")"
      ],
      "metadata": {
        "colab": {
          "base_uri": "https://localhost:8080/"
        },
        "id": "5D67g0AhOQa6",
        "outputId": "b24beaeb-77a1-40ad-a563-a0edb4064540"
      },
      "execution_count": null,
      "outputs": [
        {
          "output_type": "stream",
          "name": "stdout",
          "text": [
            "9 0 1\n"
          ]
        }
      ]
    },
    {
      "cell_type": "markdown",
      "source": [
        "Фрагмент кода создающий функцию least_difference, которая принимает три аргумента, a, b и c.\n",
        "\n",
        "Функции начинаются с заголовка, представленного ключевым словом def. Блок кода с отступом, следующий за :, выполняется при вызове функции.\n",
        "\n",
        "return - это еще одно ключевое слово, уникально связанное с функциями. Когда Python встречает оператор return, он немедленно выходит из функции и передает значение в правой части контексту вызова."
      ],
      "metadata": {
        "id": "mn8hvtTMIxge"
      }
    },
    {
      "cell_type": "markdown",
      "source": [
        "# Списки в Python\n",
        "\n",
        " Чтобы создать список, необходимо использовать квадратные скобки ([, ]) и разделять каждый элемент запятой. Каждый элемент списка является строкой Python, поэтому каждый элемент заключен в кавычки"
      ],
      "metadata": {
        "id": "T6LE4Iy8TtsQ"
      }
    },
    {
      "cell_type": "code",
      "source": [
        "nums = [139, 128, 172, 139, 191, 168, 170]\n",
        "print(type(nums))\n",
        "print(nums)\n",
        "\n",
        "print(\"Первый элемент:\", nums[0])\n",
        "print(\"Второй элемент:\", nums[1])\n",
        "\n",
        "print(\"Последний элемент:\", nums[len(nums) - 1])\n",
        "\n",
        "print(\"Первые три элемента:\", nums[:3])\n",
        "print(\"Последние два элемента:\", nums[-2:])"
      ],
      "metadata": {
        "colab": {
          "base_uri": "https://localhost:8080/"
        },
        "id": "EObJVs7FVCtY",
        "outputId": "200c1e56-4af4-41e5-a798-bd909fcf0828"
      },
      "execution_count": null,
      "outputs": [
        {
          "output_type": "stream",
          "name": "stdout",
          "text": [
            "<class 'list'>\n",
            "[139, 128, 172, 139, 191, 168, 170]\n",
            "Первый элемент: 139\n",
            "Второй элемент: 128\n",
            "Последний элемент: 170\n",
            "Первые три элемента: [139, 128, 172]\n",
            "Последние два элемента: [168, 170]\n"
          ]
        }
      ]
    },
    {
      "cell_type": "markdown",
      "source": [
        "**Добавление и удаление элементов**\n"
      ],
      "metadata": {
        "id": "Pev8T03nWoC0"
      }
    },
    {
      "cell_type": "code",
      "source": [
        "nums = [139, 128, 172, 139, 191, 168, 170]\n",
        "\n",
        "nums.append(1) # добавление в конец списка\n",
        "nums.insert(0, 2) # вставка на i-ый элемент значение x\n",
        "\n",
        "nums.remove(128) # удаление первый элемент в списке, имеющий значение x\n",
        "nums.pop(3) #удаление i-ый элемент\n",
        "\n",
        "print(nums)"
      ],
      "metadata": {
        "colab": {
          "base_uri": "https://localhost:8080/"
        },
        "id": "CYaeQ4mPW0IO",
        "outputId": "1302c9f2-36f6-4802-9014-b58cef3a7d54"
      },
      "execution_count": null,
      "outputs": [
        {
          "output_type": "stream",
          "name": "stdout",
          "text": [
            "[2, 139, 172, 191, 168, 170, 1]\n"
          ]
        }
      ]
    },
    {
      "cell_type": "markdown",
      "source": [
        "# Циклы в Python\n"
      ],
      "metadata": {
        "id": "zHz43_ATMSA-"
      }
    },
    {
      "cell_type": "code",
      "source": [
        "planets = ['Mercury', 'Venus', 'Earth', 'Mars', 'Jupiter', 'Saturn', 'Uranus', 'Neptune']\n",
        "for planet in planets: # in c++ : for (auto planet : planets)\n",
        "    print(planet, end=' ')"
      ],
      "metadata": {
        "id": "qskyLTmWmZTL"
      },
      "execution_count": null,
      "outputs": []
    },
    {
      "cell_type": "markdown",
      "source": [
        "**В цикле for указывается**:\n",
        "\n",
        "имя переменной для использования (в данном случае, planet).\n",
        "\n",
        "набор значений для цикла (в данном случае, planets).\n",
        "\n",
        "мы используем слово \"in\", чтобы связать их вместе."
      ],
      "metadata": {
        "id": "ED-_kx9LtfOz"
      }
    },
    {
      "cell_type": "markdown",
      "source": [
        "**функция range()**\n",
        "\n",
        "range() это функция, которая возвращает последовательность чисел. \n",
        "\n",
        "Синтаксис: range(start, stop, step)\n",
        "\n",
        "Параметры:\n",
        "\n",
        "start: число, начиная с которого должна быть возвращена \n",
        "последовательность целых чисел.\n",
        "\n",
        "stop: число, до которого должна быть возвращена последовательность целых чисел. Диапазон целых чисел заканчивается на stop - 1.\n",
        "\n",
        "step: целочисленное значение, определяющее шаг между каждым целым числом в последовательности."
      ],
      "metadata": {
        "id": "RG_e6svoEbzh"
      }
    },
    {
      "cell_type": "code",
      "source": [
        "for i in range(-10, 10, 2):\n",
        "    print(\"Doing important work. i =\", i)"
      ],
      "metadata": {
        "id": "Is4HXS-aten8"
      },
      "execution_count": null,
      "outputs": []
    },
    {
      "cell_type": "markdown",
      "source": [
        "цикл **while**"
      ],
      "metadata": {
        "id": "UXqoEGcwRsH9"
      }
    },
    {
      "cell_type": "code",
      "source": [
        "i = 0\n",
        "while i < 10:\n",
        "    print(i, end=' ')\n",
        "    i += 1"
      ],
      "metadata": {
        "id": "sxhOJMVjRscW"
      },
      "execution_count": null,
      "outputs": []
    },
    {
      "cell_type": "markdown",
      "source": [
        "**Работа со списками**"
      ],
      "metadata": {
        "id": "aKN3nz5EYjIW"
      }
    },
    {
      "cell_type": "code",
      "source": [
        "squares = [n**2 for n in range(10)]\n",
        "print(squares)"
      ],
      "metadata": {
        "id": "YYddXFOAYg6b"
      },
      "execution_count": null,
      "outputs": []
    },
    {
      "cell_type": "markdown",
      "source": [
        "То же самое с использованием For"
      ],
      "metadata": {
        "id": "ZJrF90rcYsE2"
      }
    },
    {
      "cell_type": "code",
      "source": [
        "squares = []\n",
        "for n in range(10):\n",
        "    squares.append(n**2)\n",
        "print(squares)"
      ],
      "metadata": {
        "id": "ZUWEKEH_YxIQ"
      },
      "execution_count": null,
      "outputs": []
    },
    {
      "cell_type": "markdown",
      "source": [
        "также можно использовать ```if```"
      ],
      "metadata": {
        "id": "2X3QJeD2Zvie"
      }
    },
    {
      "cell_type": "code",
      "source": [
        "squares_2 = [n**2 for n in range(10) if (n**2 < 50)]\n",
        "print(squares_2)"
      ],
      "metadata": {
        "id": "UfoIv0NwZqdg"
      },
      "execution_count": null,
      "outputs": []
    },
    {
      "cell_type": "markdown",
      "source": [
        "Простая задача:\n",
        "\n",
        "Дан массив. Нужно вывести количество отрицательных чисел в нем.\n",
        "\n",
        "count_negatives([5, -1, -2, 0, 3])\n",
        "\n",
        "2"
      ],
      "metadata": {
        "id": "Z5UGdPpVaii8"
      }
    },
    {
      "cell_type": "code",
      "source": [
        "# 1 решение\n",
        "\n",
        "def count_negatives(nums):\n",
        "    n_negative = 0\n",
        "    for num in nums:\n",
        "        if num < 0:\n",
        "            n_negative = n_negative + 1\n",
        "    return n_negative"
      ],
      "metadata": {
        "id": "ZeLGJTMMabVa"
      },
      "execution_count": null,
      "outputs": []
    },
    {
      "cell_type": "code",
      "source": [
        "# 2 решение\n",
        "\n",
        "def count_negatives(nums):\n",
        "    return len([num for num in nums if num < 0])"
      ],
      "metadata": {
        "id": "A83HnQqCa_Bz"
      },
      "execution_count": null,
      "outputs": []
    },
    {
      "cell_type": "markdown",
      "source": [
        "# Imports"
      ],
      "metadata": {
        "id": "BuwHEWWLgZJD"
      }
    },
    {
      "cell_type": "markdown",
      "source": [
        "Некоторые из этих библиотек входят в \"стандартную библиотеку\". Другие библиотеки можно легко добавить с помощью команды ```import```"
      ],
      "metadata": {
        "id": "Y0fz7hZ-q6LL"
      }
    },
    {
      "cell_type": "markdown",
      "source": [
        "**библиотека math**"
      ],
      "metadata": {
        "id": "2PZOen6lmHfb"
      }
    },
    {
      "cell_type": "code",
      "source": [
        "import math\n",
        "print(dir(math))\n",
        "help(math)"
      ],
      "metadata": {
        "colab": {
          "base_uri": "https://localhost:8080/"
        },
        "id": "KpClwh6OgUj7",
        "outputId": "488b5fb2-0847-4f3c-ae01-b7ab04b1e5ee"
      },
      "execution_count": null,
      "outputs": [
        {
          "output_type": "stream",
          "name": "stdout",
          "text": [
            "['__doc__', '__loader__', '__name__', '__package__', '__spec__', 'acos', 'acosh', 'asin', 'asinh', 'atan', 'atan2', 'atanh', 'ceil', 'copysign', 'cos', 'cosh', 'degrees', 'e', 'erf', 'erfc', 'exp', 'expm1', 'fabs', 'factorial', 'floor', 'fmod', 'frexp', 'fsum', 'gamma', 'gcd', 'hypot', 'inf', 'isclose', 'isfinite', 'isinf', 'isnan', 'ldexp', 'lgamma', 'log', 'log10', 'log1p', 'log2', 'modf', 'nan', 'pi', 'pow', 'radians', 'remainder', 'sin', 'sinh', 'sqrt', 'tan', 'tanh', 'tau', 'trunc']\n",
            "Help on built-in module math:\n",
            "\n",
            "NAME\n",
            "    math\n",
            "\n",
            "DESCRIPTION\n",
            "    This module provides access to the mathematical functions\n",
            "    defined by the C standard.\n",
            "\n",
            "FUNCTIONS\n",
            "    acos(x, /)\n",
            "        Return the arc cosine (measured in radians) of x.\n",
            "    \n",
            "    acosh(x, /)\n",
            "        Return the inverse hyperbolic cosine of x.\n",
            "    \n",
            "    asin(x, /)\n",
            "        Return the arc sine (measured in radians) of x.\n",
            "    \n",
            "    asinh(x, /)\n",
            "        Return the inverse hyperbolic sine of x.\n",
            "    \n",
            "    atan(x, /)\n",
            "        Return the arc tangent (measured in radians) of x.\n",
            "    \n",
            "    atan2(y, x, /)\n",
            "        Return the arc tangent (measured in radians) of y/x.\n",
            "        \n",
            "        Unlike atan(y/x), the signs of both x and y are considered.\n",
            "    \n",
            "    atanh(x, /)\n",
            "        Return the inverse hyperbolic tangent of x.\n",
            "    \n",
            "    ceil(x, /)\n",
            "        Return the ceiling of x as an Integral.\n",
            "        \n",
            "        This is the smallest integer >= x.\n",
            "    \n",
            "    copysign(x, y, /)\n",
            "        Return a float with the magnitude (absolute value) of x but the sign of y.\n",
            "        \n",
            "        On platforms that support signed zeros, copysign(1.0, -0.0)\n",
            "        returns -1.0.\n",
            "    \n",
            "    cos(x, /)\n",
            "        Return the cosine of x (measured in radians).\n",
            "    \n",
            "    cosh(x, /)\n",
            "        Return the hyperbolic cosine of x.\n",
            "    \n",
            "    degrees(x, /)\n",
            "        Convert angle x from radians to degrees.\n",
            "    \n",
            "    erf(x, /)\n",
            "        Error function at x.\n",
            "    \n",
            "    erfc(x, /)\n",
            "        Complementary error function at x.\n",
            "    \n",
            "    exp(x, /)\n",
            "        Return e raised to the power of x.\n",
            "    \n",
            "    expm1(x, /)\n",
            "        Return exp(x)-1.\n",
            "        \n",
            "        This function avoids the loss of precision involved in the direct evaluation of exp(x)-1 for small x.\n",
            "    \n",
            "    fabs(x, /)\n",
            "        Return the absolute value of the float x.\n",
            "    \n",
            "    factorial(x, /)\n",
            "        Find x!.\n",
            "        \n",
            "        Raise a ValueError if x is negative or non-integral.\n",
            "    \n",
            "    floor(x, /)\n",
            "        Return the floor of x as an Integral.\n",
            "        \n",
            "        This is the largest integer <= x.\n",
            "    \n",
            "    fmod(x, y, /)\n",
            "        Return fmod(x, y), according to platform C.\n",
            "        \n",
            "        x % y may differ.\n",
            "    \n",
            "    frexp(x, /)\n",
            "        Return the mantissa and exponent of x, as pair (m, e).\n",
            "        \n",
            "        m is a float and e is an int, such that x = m * 2.**e.\n",
            "        If x is 0, m and e are both 0.  Else 0.5 <= abs(m) < 1.0.\n",
            "    \n",
            "    fsum(seq, /)\n",
            "        Return an accurate floating point sum of values in the iterable seq.\n",
            "        \n",
            "        Assumes IEEE-754 floating point arithmetic.\n",
            "    \n",
            "    gamma(x, /)\n",
            "        Gamma function at x.\n",
            "    \n",
            "    gcd(x, y, /)\n",
            "        greatest common divisor of x and y\n",
            "    \n",
            "    hypot(x, y, /)\n",
            "        Return the Euclidean distance, sqrt(x*x + y*y).\n",
            "    \n",
            "    isclose(a, b, *, rel_tol=1e-09, abs_tol=0.0)\n",
            "        Determine whether two floating point numbers are close in value.\n",
            "        \n",
            "          rel_tol\n",
            "            maximum difference for being considered \"close\", relative to the\n",
            "            magnitude of the input values\n",
            "          abs_tol\n",
            "            maximum difference for being considered \"close\", regardless of the\n",
            "            magnitude of the input values\n",
            "        \n",
            "        Return True if a is close in value to b, and False otherwise.\n",
            "        \n",
            "        For the values to be considered close, the difference between them\n",
            "        must be smaller than at least one of the tolerances.\n",
            "        \n",
            "        -inf, inf and NaN behave similarly to the IEEE 754 Standard.  That\n",
            "        is, NaN is not close to anything, even itself.  inf and -inf are\n",
            "        only close to themselves.\n",
            "    \n",
            "    isfinite(x, /)\n",
            "        Return True if x is neither an infinity nor a NaN, and False otherwise.\n",
            "    \n",
            "    isinf(x, /)\n",
            "        Return True if x is a positive or negative infinity, and False otherwise.\n",
            "    \n",
            "    isnan(x, /)\n",
            "        Return True if x is a NaN (not a number), and False otherwise.\n",
            "    \n",
            "    ldexp(x, i, /)\n",
            "        Return x * (2**i).\n",
            "        \n",
            "        This is essentially the inverse of frexp().\n",
            "    \n",
            "    lgamma(x, /)\n",
            "        Natural logarithm of absolute value of Gamma function at x.\n",
            "    \n",
            "    log(...)\n",
            "        log(x, [base=math.e])\n",
            "        Return the logarithm of x to the given base.\n",
            "        \n",
            "        If the base not specified, returns the natural logarithm (base e) of x.\n",
            "    \n",
            "    log10(x, /)\n",
            "        Return the base 10 logarithm of x.\n",
            "    \n",
            "    log1p(x, /)\n",
            "        Return the natural logarithm of 1+x (base e).\n",
            "        \n",
            "        The result is computed in a way which is accurate for x near zero.\n",
            "    \n",
            "    log2(x, /)\n",
            "        Return the base 2 logarithm of x.\n",
            "    \n",
            "    modf(x, /)\n",
            "        Return the fractional and integer parts of x.\n",
            "        \n",
            "        Both results carry the sign of x and are floats.\n",
            "    \n",
            "    pow(x, y, /)\n",
            "        Return x**y (x to the power of y).\n",
            "    \n",
            "    radians(x, /)\n",
            "        Convert angle x from degrees to radians.\n",
            "    \n",
            "    remainder(x, y, /)\n",
            "        Difference between x and the closest integer multiple of y.\n",
            "        \n",
            "        Return x - n*y where n*y is the closest integer multiple of y.\n",
            "        In the case where x is exactly halfway between two multiples of\n",
            "        y, the nearest even value of n is used. The result is always exact.\n",
            "    \n",
            "    sin(x, /)\n",
            "        Return the sine of x (measured in radians).\n",
            "    \n",
            "    sinh(x, /)\n",
            "        Return the hyperbolic sine of x.\n",
            "    \n",
            "    sqrt(x, /)\n",
            "        Return the square root of x.\n",
            "    \n",
            "    tan(x, /)\n",
            "        Return the tangent of x (measured in radians).\n",
            "    \n",
            "    tanh(x, /)\n",
            "        Return the hyperbolic tangent of x.\n",
            "    \n",
            "    trunc(x, /)\n",
            "        Truncates the Real x to the nearest Integral toward 0.\n",
            "        \n",
            "        Uses the __trunc__ magic method.\n",
            "\n",
            "DATA\n",
            "    e = 2.718281828459045\n",
            "    inf = inf\n",
            "    nan = nan\n",
            "    pi = 3.141592653589793\n",
            "    tau = 6.283185307179586\n",
            "\n",
            "FILE\n",
            "    (built-in)\n",
            "\n",
            "\n"
          ]
        }
      ]
    },
    {
      "cell_type": "code",
      "source": [
        "import math as mt\n",
        "print(mt.pi, mt.log(32, 2))\n",
        "print(mt.sin(mt.pi/6))"
      ],
      "metadata": {
        "colab": {
          "base_uri": "https://localhost:8080/"
        },
        "id": "eXlbnQydhsc4",
        "outputId": "43185949-1f7f-425d-8830-3e84968ef7d1"
      },
      "execution_count": null,
      "outputs": [
        {
          "output_type": "stream",
          "name": "stdout",
          "text": [
            "3.141592653589793 5.0\n",
            "0.49999999999999994\n"
          ]
        }
      ]
    },
    {
      "cell_type": "markdown",
      "source": [
        "**библиотека numpy**"
      ],
      "metadata": {
        "id": "oDJtd7wxmO1l"
      }
    },
    {
      "cell_type": "markdown",
      "source": [
        "Главной особенностью numpy является объект array. Массивы схожи со списками в python, исключая тот факт, что элементы массива должны иметь одинаковый тип данных, как float, int и boolean. С массивами можно проводить числовые операции с большим объемом информации в разы быстрее и, главное, намного эффективнее чем со списками."
      ],
      "metadata": {
        "id": "kAjFUnUMGTzT"
      }
    },
    {
      "cell_type": "code",
      "source": [
        "import numpy as np\n",
        "\n",
        "# cоздание массива\n",
        "\n",
        "a = np.array([1, 2, 3, 4, 10], int)\n",
        "print(type(a))\n",
        "print(a)\n",
        "\n",
        "# манипуляции с массивами\n",
        "\n",
        "print(a[:2])\n",
        "print(a[-3:])\n",
        "a[1] = 14\n",
        "print(a[1])\n",
        "print(sum(a))\n",
        "\n",
        "x = np.array([[1, 2, 3], [6, 5, 4]], float)\n",
        "print(x)\n",
        "print(x.shape)\n",
        "print(len(x))"
      ],
      "metadata": {
        "colab": {
          "base_uri": "https://localhost:8080/"
        },
        "id": "CM40NEhLLn3I",
        "outputId": "748206f3-5cd1-4198-c112-624587650cb1"
      },
      "execution_count": null,
      "outputs": [
        {
          "output_type": "stream",
          "name": "stdout",
          "text": [
            "<class 'numpy.ndarray'>\n",
            "[ 1  2  3  4 10]\n",
            "[1 2]\n",
            "[ 3  4 10]\n",
            "14\n",
            "32\n",
            "[[1. 2. 3.]\n",
            " [6. 5. 4.]]\n",
            "(2, 3)\n",
            "2\n"
          ]
        }
      ]
    },
    {
      "cell_type": "code",
      "source": [
        "import numpy as np\n",
        "\n",
        "xlist = [[1,2,3],[2,4,6],] # создание списка\n",
        "x = np.asarray(xlist)\n",
        "print(\"xlist = {}\\nx =\\n{}\".format(xlist, x))\n",
        "print(x[1, 1])"
      ],
      "metadata": {
        "colab": {
          "base_uri": "https://localhost:8080/"
        },
        "id": "FLftyvNrnqet",
        "outputId": "d2744330-4745-4950-d772-4420e684700d"
      },
      "execution_count": null,
      "outputs": [
        {
          "output_type": "stream",
          "name": "stdout",
          "text": [
            "xlist = [[1, 2, 3], [2, 4, 6]]\n",
            "x =\n",
            "[[1 2 3]\n",
            " [2 4 6]]\n",
            "4\n"
          ]
        }
      ]
    },
    {
      "cell_type": "code",
      "source": [
        "import numpy as np\n",
        "\n",
        "n = 3\n",
        "a = np.random.rand(n*n).reshape(n, n)\n",
        "a = np.random.rand(n, n)\n",
        "a.fill(19)\n",
        "print(a, end=\"\\n\\n\")\n",
        "a = a.flatten()\n",
        "print(a, end=\"\\n\\n\")"
      ],
      "metadata": {
        "colab": {
          "base_uri": "https://localhost:8080/"
        },
        "id": "x5N1fnWqTl_B",
        "outputId": "4e1ac6d7-bd93-4da8-e3ca-dce98e3b0702"
      },
      "execution_count": null,
      "outputs": [
        {
          "output_type": "stream",
          "name": "stdout",
          "text": [
            "[[19. 19. 19.]\n",
            " [19. 19. 19.]\n",
            " [19. 19. 19.]]\n",
            "\n",
            "[19. 19. 19. 19. 19. 19. 19. 19. 19.]\n",
            "\n"
          ]
        }
      ]
    },
    {
      "cell_type": "markdown",
      "source": [
        "**Объеденение одномерных массивов**"
      ],
      "metadata": {
        "id": "sg9-Ijdrb2j9"
      }
    },
    {
      "cell_type": "code",
      "source": [
        "import numpy as np\n",
        "\n",
        "a = np.array([1, 2, 3], int)\n",
        "b = np.array([4, 5], int)\n",
        "c = np.array([6, 7, 8, 9, 10], int)\n",
        "\n",
        "x = np.concatenate((a, b, c))\n",
        "print(x)"
      ],
      "metadata": {
        "colab": {
          "base_uri": "https://localhost:8080/"
        },
        "id": "sVwHuhoFb_U3",
        "outputId": "1da4c7f3-f444-4bab-ede1-0aa8edcc3adc"
      },
      "execution_count": null,
      "outputs": [
        {
          "output_type": "stream",
          "name": "stdout",
          "text": [
            "[ 1  2  3  4  5  6  7  8  9 10]\n"
          ]
        }
      ]
    },
    {
      "cell_type": "markdown",
      "source": [
        "**Объеденение не одномерных массивов**"
      ],
      "metadata": {
        "id": "-qgwCnCSdeId"
      }
    },
    {
      "cell_type": "code",
      "source": [
        "import numpy as np\n",
        "\n",
        "a = np.array([[1, 2], [3, 4]], int)\n",
        "print(a, end='\\n\\n')\n",
        "b = np.array([[5, 6], [7, 8]], int)\n",
        "print(b, end='\\n\\n')\n",
        "\n",
        "c = np.concatenate((a, b))\n",
        "print(c, end=\"\\n\\n\")\n",
        "\n",
        "c = np.concatenate((a, b), axis = 0)\n",
        "print(c, end=\"\\n\\n\")\n",
        "\n",
        "c = np.concatenate((a, b), axis = 1)\n",
        "print(c, end=\"\\n\\n\")"
      ],
      "metadata": {
        "colab": {
          "base_uri": "https://localhost:8080/"
        },
        "id": "fg7XYkE-dnjV",
        "outputId": "e7d1cc63-1479-42fe-f737-1c75bce43fe5"
      },
      "execution_count": null,
      "outputs": [
        {
          "output_type": "stream",
          "name": "stdout",
          "text": [
            "[[1 2]\n",
            " [3 4]]\n",
            "\n",
            "[[5 6]\n",
            " [7 8]]\n",
            "\n",
            "[[1 2]\n",
            " [3 4]\n",
            " [5 6]\n",
            " [7 8]]\n",
            "\n",
            "[[1 2]\n",
            " [3 4]\n",
            " [5 6]\n",
            " [7 8]]\n",
            "\n",
            "[[1 2 5 6]\n",
            " [3 4 7 8]]\n",
            "\n"
          ]
        }
      ]
    },
    {
      "cell_type": "markdown",
      "source": [
        "**Другие пути создания массивов**"
      ],
      "metadata": {
        "id": "8c8EpmAknNnQ"
      }
    },
    {
      "cell_type": "code",
      "source": [
        "import numpy as np\n",
        "\n",
        "a = np.zeros((2, 3), dtype=int)\n",
        "print(a, end=\"\\n\\n\")\n",
        "\n",
        "b = np.ones((7), dtype=float)\n",
        "print(b, end=\"\\n\\n\")\n",
        "\n",
        "print (np.zeros_like(b), end=\"\\n\\n\")\n",
        "print (np.ones_like(a), end=\"\\n\\n\")\n",
        "\n",
        "c = np.identity(4, dtype=int)\n",
        "print(c, end=\"\\n\\n\")\n",
        "d = np.eye(4, k=-2, dtype=float)\n",
        "print(d, end=\"\\n\\n\")"
      ],
      "metadata": {
        "colab": {
          "base_uri": "https://localhost:8080/"
        },
        "id": "IdRxJlwLjf1W",
        "outputId": "7c2e167a-d2fa-4651-e058-a8eef60274aa"
      },
      "execution_count": null,
      "outputs": [
        {
          "output_type": "stream",
          "name": "stdout",
          "text": [
            "[[0 0 0]\n",
            " [0 0 0]]\n",
            "\n",
            "[1. 1. 1. 1. 1. 1. 1.]\n",
            "\n",
            "[0. 0. 0. 0. 0. 0. 0.]\n",
            "\n",
            "[[1 1 1]\n",
            " [1 1 1]]\n",
            "\n",
            "[[1 0 0 0]\n",
            " [0 1 0 0]\n",
            " [0 0 1 0]\n",
            " [0 0 0 1]]\n",
            "\n",
            "[[0. 0. 0. 0.]\n",
            " [0. 0. 0. 0.]\n",
            " [1. 0. 0. 0.]\n",
            " [0. 1. 0. 0.]]\n",
            "\n"
          ]
        }
      ]
    },
    {
      "cell_type": "markdown",
      "source": [
        "**Операции с массивами**"
      ],
      "metadata": {
        "id": "oLeXwqk-nWpN"
      }
    },
    {
      "cell_type": "code",
      "source": [
        "import numpy as np\n",
        "\n",
        "rolls = np.random.randint(low=1, high=6, size=10)\n",
        "print(rolls)\n",
        "\n",
        "RollsList = rolls.tolist()\n",
        "print(RollsList, end=\"\\n\\n\")\n",
        "\n",
        "a = np.array([1, 2, 3, 4], int)\n",
        "b = np.array([5.4, 6.5, 7.987, 8.123], float)\n",
        "\n",
        "print(np.floor(b))\n",
        "print(np.ceil(b))\n",
        "print(np.rint(b), end=\"\\n\\n\")\n",
        "\n",
        "print(\"a+b={}\".format(a + b))\n",
        "print(\"a-b={}\".format(a - b))\n",
        "print(\"a*b={}\".format(a * b))\n",
        "print(\"a/b={}\".format(a / b))\n",
        "print(\"a%b={}\".format(a % b))\n",
        "print(\"a**b={}\".format(a ** b))\n",
        "print(\"sqrt(a)={}\\nsqrt(b)={}\".format(np.sqrt(a), np.sqrt(b)), end=\"\\n\\n\")\n",
        "\n",
        "a = np.array([[0, 1], [2, 3]], float)\n",
        "b = np.array([[4, 5], [6, 7]], float)\n",
        "print(a * b)"
      ],
      "metadata": {
        "colab": {
          "base_uri": "https://localhost:8080/"
        },
        "id": "Oek-6Ys5mTBZ",
        "outputId": "c6058d4c-c9c3-472b-aaa5-78317e080713"
      },
      "execution_count": null,
      "outputs": [
        {
          "output_type": "stream",
          "name": "stdout",
          "text": [
            "[4 5 2 3 1 5 2 5 1 1]\n",
            "[4, 5, 2, 3, 1, 5, 2, 5, 1, 1]\n",
            "\n",
            "[5. 6. 7. 8.]\n",
            "[6. 7. 8. 9.]\n",
            "[5. 6. 8. 8.]\n",
            "\n",
            "a+b=[ 6.4    8.5   10.987 12.123]\n",
            "a-b=[-4.4   -4.5   -4.987 -4.123]\n",
            "a*b=[ 5.4   13.    23.961 32.492]\n",
            "a/b=[0.18518519 0.30769231 0.37561037 0.49242891]\n",
            "a%b=[1. 2. 3. 4.]\n",
            "a**b=[1.00000000e+00 9.05096680e+01 6.46796203e+03 7.77200926e+04]\n",
            "sqrt(a)=[1.         1.41421356 1.73205081 2.        ]\n",
            "sqrt(b)=[2.32379001 2.54950976 2.82612809 2.85008772]\n",
            "\n",
            "[[ 0.  5.]\n",
            " [12. 21.]]\n"
          ]
        }
      ]
    },
    {
      "cell_type": "markdown",
      "source": [
        "При несоответствии в размере компилятор выдает ошибки"
      ],
      "metadata": {
        "id": "r9BlqqRkq2xL"
      }
    },
    {
      "cell_type": "code",
      "source": [
        "import numpy as np \n",
        "a = np.array([1, 2, 3, 4], int)\n",
        "b = np.array([5, 6, 7, 8, 9], int)\n",
        "print(\"a+b={}\".format(a + b))"
      ],
      "metadata": {
        "colab": {
          "base_uri": "https://localhost:8080/",
          "height": 201
        },
        "id": "flVo4oDrq86Y",
        "outputId": "75d4a466-e2d5-4575-e931-3c03c7467275"
      },
      "execution_count": null,
      "outputs": [
        {
          "output_type": "error",
          "ename": "ValueError",
          "evalue": "ignored",
          "traceback": [
            "\u001b[0;31m---------------------------------------------------------------------------\u001b[0m",
            "\u001b[0;31mValueError\u001b[0m                                Traceback (most recent call last)",
            "\u001b[0;32m<ipython-input-61-ee11f50f1fb3>\u001b[0m in \u001b[0;36m<module>\u001b[0;34m\u001b[0m\n\u001b[1;32m      1\u001b[0m \u001b[0ma\u001b[0m \u001b[0;34m=\u001b[0m \u001b[0mnp\u001b[0m\u001b[0;34m.\u001b[0m\u001b[0marray\u001b[0m\u001b[0;34m(\u001b[0m\u001b[0;34m[\u001b[0m\u001b[0;36m1\u001b[0m\u001b[0;34m,\u001b[0m \u001b[0;36m2\u001b[0m\u001b[0;34m,\u001b[0m \u001b[0;36m3\u001b[0m\u001b[0;34m,\u001b[0m \u001b[0;36m4\u001b[0m\u001b[0;34m]\u001b[0m\u001b[0;34m,\u001b[0m \u001b[0mint\u001b[0m\u001b[0;34m)\u001b[0m\u001b[0;34m\u001b[0m\u001b[0;34m\u001b[0m\u001b[0m\n\u001b[1;32m      2\u001b[0m \u001b[0mb\u001b[0m \u001b[0;34m=\u001b[0m \u001b[0mnp\u001b[0m\u001b[0;34m.\u001b[0m\u001b[0marray\u001b[0m\u001b[0;34m(\u001b[0m\u001b[0;34m[\u001b[0m\u001b[0;36m5\u001b[0m\u001b[0;34m,\u001b[0m \u001b[0;36m6\u001b[0m\u001b[0;34m,\u001b[0m \u001b[0;36m7\u001b[0m\u001b[0;34m,\u001b[0m \u001b[0;36m8\u001b[0m\u001b[0;34m,\u001b[0m \u001b[0;36m9\u001b[0m\u001b[0;34m]\u001b[0m\u001b[0;34m,\u001b[0m \u001b[0mint\u001b[0m\u001b[0;34m)\u001b[0m\u001b[0;34m\u001b[0m\u001b[0;34m\u001b[0m\u001b[0m\n\u001b[0;32m----> 3\u001b[0;31m \u001b[0mprint\u001b[0m\u001b[0;34m(\u001b[0m\u001b[0;34m\"a+b={}\"\u001b[0m\u001b[0;34m.\u001b[0m\u001b[0mformat\u001b[0m\u001b[0;34m(\u001b[0m\u001b[0ma\u001b[0m \u001b[0;34m+\u001b[0m \u001b[0mb\u001b[0m\u001b[0;34m)\u001b[0m\u001b[0;34m)\u001b[0m\u001b[0;34m\u001b[0m\u001b[0;34m\u001b[0m\u001b[0m\n\u001b[0m",
            "\u001b[0;31mValueError\u001b[0m: operands could not be broadcast together with shapes (4,) (5,) "
          ]
        }
      ]
    },
    {
      "cell_type": "markdown",
      "source": [
        "Однако, если размерность массивов не совпадает, они будут преобразованы для выполнения математических операций. "
      ],
      "metadata": {
        "id": "lR6Lbsk3rE6r"
      }
    },
    {
      "cell_type": "code",
      "source": [
        "import numpy as np\n",
        "a = np.array([[1, 2], [3, 4], [5, 6]], int)\n",
        "b = np.array([7, 8], int)\n",
        "# 7 8\n",
        "# 7 8\n",
        "# 7 8\n",
        "print(a * b)"
      ],
      "metadata": {
        "colab": {
          "base_uri": "https://localhost:8080/"
        },
        "id": "4e6v6KzOrR0v",
        "outputId": "70e2adf4-6b00-44e7-b966-5c564163e859"
      },
      "execution_count": null,
      "outputs": [
        {
          "output_type": "stream",
          "name": "stdout",
          "text": [
            "[[ 7 16]\n",
            " [21 32]\n",
            " [35 48]]\n"
          ]
        }
      ]
    },
    {
      "cell_type": "code",
      "source": [
        "import numpy as np\n",
        "a = np.array([2, 1, 5, 3, 4], int)\n",
        "\n",
        "print(np.sum(a))\n",
        "print(np.prod(a))\n",
        "print(np.var(a)) # среднее арифметическое\n",
        "print(np.min(a))\n",
        "print(np.max(a), end=\"\\n\\n\")\n",
        "#индексы минимального и максимального элемента\n",
        "print(np.argmax(a))\n",
        "print(np.argmin(a), end=\"\\n\\n\")\n",
        "\n",
        "\n",
        "b = np.array([[1, 2, 3], [4, 5, 6], [7, 8, 9]], float)\n",
        "# 1 2 3\n",
        "# 4 5 6\n",
        "# 7 8 9\n",
        "print(np.sum(b, axis=0))\n",
        "print(np.max(b, axis=1), end=\"\\n\\n\")\n",
        "\n",
        "a = np.sort(a)\n",
        "print(a)\n",
        "\n",
        "a = a.clip(2, 4) # min(max(a[i], minval), maxval)\n",
        "print(a)"
      ],
      "metadata": {
        "colab": {
          "base_uri": "https://localhost:8080/"
        },
        "id": "jkg7dMptv3zj",
        "outputId": "b09af705-d221-40f4-8372-84b8291bcfd2"
      },
      "execution_count": null,
      "outputs": [
        {
          "output_type": "stream",
          "name": "stdout",
          "text": [
            "15\n",
            "120\n",
            "2.0\n",
            "1\n",
            "5\n",
            "\n",
            "2\n",
            "1\n",
            "\n",
            "[12. 15. 18.]\n",
            "[3. 6. 9.]\n",
            "\n",
            "[1 2 3 4 5]\n",
            "[2 2 3 4 4]\n"
          ]
        }
      ]
    },
    {
      "cell_type": "markdown",
      "source": [
        "**Операторы сравнения**"
      ],
      "metadata": {
        "id": "9YXDAMIOeQTr"
      }
    },
    {
      "cell_type": "code",
      "source": [
        "import numpy as np\n",
        "\n",
        "a = np.random.randint(low=1, high=6, size=10)\n",
        "print(a)\n",
        "\n",
        "b = np.random.randint(low=-6, high=-1, size=10)\n",
        "\n",
        "b = b + 10\n",
        "print(b)\n",
        "\n",
        "print(a <= b)\n",
        "print(a == b, end=\"\\n\\n\")\n",
        "\n",
        "print(any(a == b))\n",
        "print(all(a > b), end=\"\\n\\n\")\n",
        "\n",
        "\n",
        "a = np.array([1, 3, 0], float)\n",
        "print(np.logical_and(a > 0, a < 3))\n",
        "\n",
        "b = np.array([True, False, False], bool)\n",
        "print(np.logical_not(b))\n",
        "\n",
        "c = np.array([False, True, False], bool)\n",
        "print(np.logical_or(b, c))\n",
        "\n",
        "d = np.array([1, -3, 0], float)\n",
        "print(np.where(d > 0, 1, -1))\n",
        "\n",
        "\n",
        "e = np.array([[0, 1], [-3, 0]], float)\n",
        "print(np.nonzero(e))\n",
        "\n",
        "\n",
        "f = np.array([1, np.NaN, np.Inf], float)\n",
        "print(f)\n",
        "print(np.isnan(f))\n",
        "print(np.isfinite(f))"
      ],
      "metadata": {
        "colab": {
          "base_uri": "https://localhost:8080/"
        },
        "id": "z4rHI6_UeRcG",
        "outputId": "3aee2198-b39a-41e3-80ed-9a827419d8a4"
      },
      "execution_count": null,
      "outputs": [
        {
          "output_type": "stream",
          "name": "stdout",
          "text": [
            "[5 4 2 3 1 2 2 1 4 3]\n",
            "[7 4 5 6 4 7 4 8 5 8]\n",
            "[ True  True  True  True  True  True  True  True  True  True]\n",
            "[False  True False False False False False False False False]\n",
            "\n",
            "True\n",
            "False\n",
            "\n",
            "[ True False False]\n",
            "[False  True  True]\n",
            "[ True  True False]\n",
            "[ 1 -1 -1]\n",
            "(array([0, 1]), array([1, 0]))\n",
            "[ 1. nan inf]\n",
            "[False  True False]\n",
            "[ True False False]\n"
          ]
        }
      ]
    },
    {
      "cell_type": "markdown",
      "source": [
        "**Выбор элементов массива и манипуляция с ними**"
      ],
      "metadata": {
        "id": "K1X5eAdCxbei"
      }
    },
    {
      "cell_type": "code",
      "source": [
        "import numpy as np\n",
        "\n",
        "a = np.array([[6, 4], [5, 9]], float)\n",
        "print(a >= 6)\n",
        "print(a[a >= 6])\n",
        "print(a[np.logical_and(a > 4, a < 7)], end=\"\\n\\n\")\n",
        "\n",
        "#\n",
        "c = np.array([0, 2, 4, 3, 1], int)\n",
        "d = np.array([1, 2, 3, 4, 5], int)\n",
        "print(d[c]) \n",
        "print(d[[0, 2, 4, 3, 1]], end=\"\\n\\n\")\n",
        "\n",
        "#\n",
        "e = np.array([[1, 4], [9, 16]], float)\n",
        "f = np.array([0, 0, 1, 1, 0], int)\n",
        "g = np.array([0, 1, 1, 1, 1], int)\n",
        "print(e[f, g], end=\"\\n\\n\")\n",
        "#\n",
        "h = np.array([0, 1, 2, 3, 4, 5], float)\n",
        "i = np.array([9, 8, 7], int)\n",
        "h.put([0, 3], i)\n",
        "print(h)\n",
        "h.put([0, 3], 5)\n",
        "print(h)"
      ],
      "metadata": {
        "colab": {
          "base_uri": "https://localhost:8080/"
        },
        "id": "NmBLh5pYxdpf",
        "outputId": "6ba3499f-8a82-4c0a-d0be-c385fd09dd80"
      },
      "execution_count": null,
      "outputs": [
        {
          "output_type": "stream",
          "name": "stdout",
          "text": [
            "[[ True False]\n",
            " [False  True]]\n",
            "[6. 9.]\n",
            "[6. 5.]\n",
            "\n",
            "[1 3 5 4 2]\n",
            "[1 3 5 4 2]\n",
            "\n",
            "[ 1.  4. 16. 16.  4.]\n",
            "\n",
            "[9. 1. 2. 8. 4. 5.]\n",
            "[5. 1. 2. 5. 4. 5.]\n"
          ]
        }
      ]
    },
    {
      "cell_type": "markdown",
      "source": [
        "**Векторная и матричная математика**"
      ],
      "metadata": {
        "id": "ov8Q690f5-8C"
      }
    },
    {
      "cell_type": "code",
      "source": [
        "import numpy as np\n",
        "\n",
        "a = np.array([[0, 1], [2, 3]], float)\n",
        "b = np.array([2, 3], float)\n",
        "c = np.array([[1, 1], [4, 0]], float)\n",
        "\n",
        "print(np.dot(b, a))\n",
        "print(np.dot(a, b), end=\"\\n\\n\")\n",
        "\n",
        "print(np.dot(a, c))\n",
        "print(np.dot(c, a), end=\"\\n\\n\")\n",
        "\n",
        "print(np.dot(b, c))\n",
        "print(np.dot(c, b))"
      ],
      "metadata": {
        "colab": {
          "base_uri": "https://localhost:8080/"
        },
        "id": "1810SocH9NA-",
        "outputId": "687ad2b4-4368-4d62-8586-515d9900142c"
      },
      "execution_count": null,
      "outputs": [
        {
          "output_type": "stream",
          "name": "stdout",
          "text": [
            "[ 6. 11.]\n",
            "[ 3. 13.]\n",
            "\n",
            "[[ 4.  0.]\n",
            " [14.  2.]]\n",
            "[[2. 4.]\n",
            " [0. 4.]]\n",
            "\n",
            "[14.  2.]\n",
            "[5. 8.]\n"
          ]
        }
      ]
    },
    {
      "cell_type": "markdown",
      "source": [
        "Также можно получить скалярное произведение."
      ],
      "metadata": {
        "id": "pXpAGWPv_gLL"
      }
    },
    {
      "cell_type": "code",
      "source": [
        "import numpy as np\n",
        "\n",
        "a = np.array([1, 4, 0], float)\n",
        "b = np.array([2, 2, 1], float)\n",
        "\n",
        "print(np.outer(a, b)) # скалярное произведение"
      ],
      "metadata": {
        "id": "U9uO-_W1_puB",
        "colab": {
          "base_uri": "https://localhost:8080/"
        },
        "outputId": "172749ab-4a1e-402d-8006-9cd984b25c4c"
      },
      "execution_count": null,
      "outputs": [
        {
          "output_type": "stream",
          "name": "stdout",
          "text": [
            "[[2. 2. 1.]\n",
            " [8. 8. 4.]\n",
            " [0. 0. 0.]]\n"
          ]
        }
      ]
    },
    {
      "cell_type": "markdown",
      "source": [
        "**Математика многочленов**\n"
      ],
      "metadata": {
        "id": "AOpSgPxJGtWs"
      }
    },
    {
      "cell_type": "code",
      "source": [
        "import numpy as np\n",
        "\n",
        "print(np.poly([-1, 1, 1, 10])) # из списка корней получаем коэффициенты уравнения\n",
        "#x^4 - 11x^3 + 9x^2 + 11x - 10 = 0\n",
        "print(np.roots([1, 4, -2, 3])) # из списка коэффициентов получаем корни уравнения\n",
        "print(np.polyder([1./4., 1./3., 1./2., 1., 0.]), end=\"\\n\\n\") # производная функции\n",
        "\n",
        "a = np.array([1, 3, -4, -2], int)\n",
        "b = np.array([-2, 5, 2, -7], int)\n",
        "#сложение, вычитание, умножение и деление многочленов\n",
        "print(np.polyadd(a, b))\n",
        "print(np.polysub(a, b))\n",
        "print(np.polymul(a, b))\n",
        "print(np.polydiv(a, b), end=\"\\n\\n\")\n"
      ],
      "metadata": {
        "colab": {
          "base_uri": "https://localhost:8080/"
        },
        "id": "b0iVzw6FGxE8",
        "outputId": "13fc5209-7f50-4e4d-9f57-0aa8b877bb9f"
      },
      "execution_count": null,
      "outputs": [
        {
          "output_type": "stream",
          "name": "stdout",
          "text": [
            "[  1. -11.   9.  11. -10.]\n",
            "[-4.5797401 +0.j          0.28987005+0.75566815j  0.28987005-0.75566815j]\n",
            "[1. 1. 1. 1.]\n",
            "\n",
            "[-1  8 -2 -9]\n",
            "[ 3 -2 -6  5]\n",
            "[ -2  -1  25 -17 -39  24  14]\n",
            "(array([-0.5]), array([ 5.5, -3. , -5.5]))\n",
            "\n"
          ]
        }
      ]
    },
    {
      "cell_type": "markdown",
      "source": [
        "# Д/з\n",
        "**1)** Найти максимальный элемент в массиве, перед которыми стоит элемент равный 0.\n",
        "\n",
        "Входные данные:\n",
        "\n",
        "7\n",
        "\n",
        "6 3 0 5 0 0 2\n",
        "\n",
        "Ответ:\n",
        "\n",
        "5\n",
        "\n",
        "\n",
        "**2)** Даны два массива. Необходимо узнать, равны они или нет.\n",
        "\n",
        "Входные данные:\n",
        "\n",
        "4\n",
        "\n",
        "1 2 3 4\n",
        "\n",
        "4\n",
        "\n",
        "3 5 1 2\n",
        "\n",
        "Ответ:\n",
        "\n",
        "False\n",
        "\n",
        "Входные данные:\n",
        "\n",
        "4\n",
        "\n",
        "1 2 3 4\n",
        "\n",
        "4\n",
        "\n",
        "2 4 1 3\n",
        "\n",
        "Ответ:\n",
        "\n",
        "True\n",
        "\n",
        "\n",
        "**3)** Найти произведение k-й диагонали в двумерной матрице.\n",
        "\n",
        "Входные данные:\n",
        "\n",
        "3\n",
        "\n",
        "1 2 3\n",
        "\n",
        "4 5 6\n",
        "\n",
        "7 8 9\n",
        "\n",
        "1\n",
        "\n",
        "Ответ:\n",
        "\n",
        "12\n",
        "\n",
        "\n",
        "**4)** Даны суммы по всём столбцам и строкам двумерной матрицы. Нужно восстановить изначальную матрицу.\n",
        "\n",
        "Входные данные:\n",
        "\n",
        "3\n",
        "\n",
        "6 15 24\n",
        "\n",
        "12 15 18\n",
        "\n",
        "Ответ:\n",
        "\n",
        "1 2 3\n",
        "\n",
        "4 5 6\n",
        "\n",
        "7 8 9"
      ],
      "metadata": {
        "id": "USQ5FrJxJ1dq"
      }
    },
    {
      "cell_type": "markdown",
      "source": [
        "**Примечание**"
      ],
      "metadata": {
        "id": "-CA-7iVLKivm"
      }
    },
    {
      "cell_type": "code",
      "source": [
        "# ввод данных\n",
        "n = int(input()) # ввод одного целого число\n",
        "t, m = map(float, input().split()) # ввод 2 вещественных чисел\n",
        "a = list(map(int, input().split())) # ввод списка\n",
        "b = [list(map(int, input().split())) for i in range(n)] # ввод двумерного списка"
      ],
      "metadata": {
        "id": "KcXjDdDtKdT2"
      },
      "execution_count": null,
      "outputs": []
    }
  ]
}